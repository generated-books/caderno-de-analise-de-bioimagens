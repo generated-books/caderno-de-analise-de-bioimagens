{
 "cells": [
  {
   "cell_type": "markdown",
   "id": "406c429a-7821-4c45-8865-aacf55d61248",
   "metadata": {},
   "source": [
    "# Fun\u00e7\u00f5es parciais\n",
    "Em alguns casos de uso, pode ser necess\u00e1rio coletar uma fun\u00e7\u00e3o juntamente com alguns par\u00e2metros em uma \u00fanica vari\u00e1vel para execut\u00e1-la posteriormente. O [`partial()` do functools](https://docs.python.org/3/library/functools.html#functools.partial) permite fazer isso."
   ]
  },
  {
   "cell_type": "code",
   "execution_count": 1,
   "id": "7ebf13ec-3c3e-4681-9292-a74b7259467c",
   "metadata": {},
   "outputs": [],
   "source": [
    "from functools import partial"
   ]
  },
  {
   "cell_type": "markdown",
   "id": "04cff01d-d240-468e-b628-09e92c05e01b",
   "metadata": {},
   "source": [
    "Para demonstrar isso, definimos uma fun\u00e7\u00e3o de exemplo."
   ]
  },
  {
   "cell_type": "code",
   "execution_count": 2,
   "id": "d0e94864-cb14-4138-ba12-75af252da731",
   "metadata": {},
   "outputs": [],
   "source": [
    "def compute_sum(a, b):\n",
    "    return a + b"
   ]
  },
  {
   "cell_type": "markdown",
   "id": "57337bd4-40e2-4afa-88df-df7fb94ef24d",
   "metadata": {},
   "source": [
    "Podemos ent\u00e3o armazenar o objeto `partial` dessa fun\u00e7\u00e3o em combina\u00e7\u00e3o com os par\u00e2metros em uma vari\u00e1vel."
   ]
  },
  {
   "cell_type": "code",
   "execution_count": 3,
   "id": "30b803b4-b38c-4466-80e2-1b0c29319b0f",
   "metadata": {},
   "outputs": [],
   "source": [
    "sum_of_3_and_4 = partial(compute_sum, 3, 4)"
   ]
  },
  {
   "cell_type": "markdown",
   "id": "d185265c-c293-48d4-9eb2-79121b809478",
   "metadata": {},
   "source": [
    "Este objeto \u00e9 [cham\u00e1vel](https://docs.python.org/3/library/typing.html#typing.Callable)."
   ]
  },
  {
   "cell_type": "code",
   "execution_count": 4,
   "id": "eaecf16d-f2e7-4a1e-a999-d01b2147763a",
   "metadata": {},
   "outputs": [
    {
     "data": {
      "text/plain": [
       "7"
      ]
     },
     "execution_count": 4,
     "metadata": {},
     "output_type": "execute_result"
    }
   ],
   "source": [
    "sum_of_3_and_4()"
   ]
  },
  {
   "cell_type": "markdown",
   "id": "988ee81d-d881-45db-9754-0b74642d3a45",
   "metadata": {},
   "source": [
    "## Mantendo par\u00e2metros n\u00e3o definidos\n",
    "Tamb\u00e9m \u00e9 poss\u00edvel especificar apenas parcialmente os par\u00e2metros."
   ]
  },
  {
   "cell_type": "code",
   "execution_count": 5,
   "id": "38385592-cd2a-4e71-baaa-70ed55304243",
   "metadata": {},
   "outputs": [],
   "source": [
    "sum_of_3_and_b = partial(compute_sum, 3)"
   ]
  },
  {
   "cell_type": "code",
   "execution_count": 6,
   "id": "2b8a0919-971c-44b6-ac11-a054bc9893de",
   "metadata": {},
   "outputs": [
    {
     "data": {
      "text/plain": [
       "12"
      ]
     },
     "execution_count": 6,
     "metadata": {},
     "output_type": "execute_result"
    }
   ],
   "source": [
    "sum_of_3_and_b(9)"
   ]
  },
  {
   "cell_type": "markdown",
   "id": "0b89c247-9124-4027-a7ab-dcbabe260f14",
   "metadata": {},
   "source": [
    "## Passando argumentos nomeados\n",
    "Tamb\u00e9m funciona com argumentos nomeados."
   ]
  },
  {
   "cell_type": "code",
   "execution_count": 7,
   "id": "3e02d3be-19ab-4498-97b2-e5e7cd3e870c",
   "metadata": {},
   "outputs": [],
   "source": [
    "sum_of_a_and_4 = partial(compute_sum, b=4)"
   ]
  },
  {
   "cell_type": "code",
   "execution_count": 8,
   "id": "8e9b6ef5-ee4e-4160-b5f2-8878eb8e42ed",
   "metadata": {},
   "outputs": [
    {
     "data": {
      "text/plain": [
       "9"
      ]
     },
     "execution_count": 8,
     "metadata": {},
     "output_type": "execute_result"
    }
   ],
   "source": [
    "sum_of_a_and_4(5)"
   ]
  },
  {
   "cell_type": "code",
   "execution_count": 9,
   "id": "47cf1529-f687-46eb-bd6c-3cd36898ab72",
   "metadata": {},
   "outputs": [
    {
     "data": {
      "text/plain": [
       "5"
      ]
     },
     "execution_count": 9,
     "metadata": {},
     "output_type": "execute_result"
    }
   ],
   "source": [
    "sum_of_a_and_4(a=1)"
   ]
  },
  {
   "cell_type": "markdown",
   "id": "32af919d-a341-466d-b649-d80394221880",
   "metadata": {},
   "source": [
    "## Exerc\u00edcio\n",
    "Programe uma fun\u00e7\u00e3o que determina a dist\u00e2ncia euclidiana entre dois pontos. Depois, use `partial` para passar um ponto fixo e um loop for para imprimir as dist\u00e2ncias de uma lista de pontos."
   ]
  },
  {
   "cell_type": "code",
   "execution_count": 10,
   "id": "afa7eef1-8e61-42fc-a7cf-3f7a66eb4775",
   "metadata": {},
   "outputs": [],
   "source": [
    "fixed_point = (1, 1, 1)\n",
    "list_of_points = [(2,1,1), (1,1,3), (2,2,2)]"
   ]
  },
  {
   "cell_type": "code",
   "execution_count": null,
   "id": "ab1be2f3-f99d-4a0f-8575-8bf0c042728f",
   "metadata": {},
   "outputs": [],
   "source": []
  },
  {
   "cell_type": "code",
   "execution_count": null,
   "id": "85e1e628-b528-4009-8b33-bfa06eb82cfd",
   "metadata": {},
   "outputs": [],
   "source": []
  }
 ],
 "metadata": {
  "kernelspec": {
   "display_name": "Python 3 (ipykernel)",
   "language": "python",
   "name": "python3"
  },
  "language_info": {
   "codemirror_mode": {
    "name": "ipython",
    "version": 3
   },
   "file_extension": ".py",
   "mimetype": "text/x-python",
   "name": "python",
   "nbconvert_exporter": "python",
   "pygments_lexer": "ipython3",
   "version": "3.9.7"
  }
 },
 "nbformat": 4,
 "nbformat_minor": 5
}