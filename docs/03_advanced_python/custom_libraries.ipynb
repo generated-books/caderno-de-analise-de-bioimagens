{
 "cells": [
  {
   "cell_type": "markdown",
   "id": "directed-compensation",
   "metadata": {},
   "source": [
    "# Bibliotecas personalizadas\n",
    "Ao programar em Python por algum tempo, voc\u00ea pode estar usando o mesmo c\u00f3digo repetidamente. Voc\u00ea poderia copi\u00e1-lo e col\u00e1-lo de um notebook Jupyter para outro. No entanto, os notebooks n\u00e3o s\u00e3o destinados a conter muitas fun\u00e7\u00f5es. Os notebooks s\u00e3o destinados a mostrar exemplos curtos e concisos de c\u00f3digo. Assim, para organizar nosso c\u00f3digo, podemos colocar as fun\u00e7\u00f5es que usamos com mais frequ\u00eancia em um arquivo Python, uma biblioteca personalizada, e depois importar as fun\u00e7\u00f5es.\n",
    "\n",
    "Veja tamb\u00e9m:\n",
    "* [O sistema de importa\u00e7\u00e3o](https://docs.python.org/3/reference/import.html)\n",
    "\n",
    "Na mesma pasta, existe um arquivo [my_library.py](my_library.py). Ele cont\u00e9m duas fun\u00e7\u00f5es. Vamos import\u00e1-las e us\u00e1-las:"
   ]
  },
  {
   "cell_type": "code",
   "execution_count": 1,
   "id": "collaborative-leisure",
   "metadata": {},
   "outputs": [],
   "source": [
    "from my_library import square"
   ]
  },
  {
   "cell_type": "code",
   "execution_count": 2,
   "id": "compressed-chassis",
   "metadata": {},
   "outputs": [
    {
     "data": {
      "text/plain": [
       "25"
      ]
     },
     "execution_count": 2,
     "metadata": {},
     "output_type": "execute_result"
    }
   ],
   "source": [
    "square(5)"
   ]
  },
  {
   "cell_type": "code",
   "execution_count": 4,
   "id": "coastal-franklin",
   "metadata": {},
   "outputs": [],
   "source": [
    "from my_library import *"
   ]
  },
  {
   "cell_type": "code",
   "execution_count": 5,
   "id": "defensive-small",
   "metadata": {},
   "outputs": [
    {
     "data": {
      "text/plain": [
       "2.449489742783178"
      ]
     },
     "execution_count": 5,
     "metadata": {},
     "output_type": "execute_result"
    }
   ],
   "source": [
    "wuzzle(5)"
   ]
  },
  {
   "cell_type": "markdown",
   "id": "aggregate-invalid",
   "metadata": {},
   "source": [
    "Ao manter sua pr\u00f3pria biblioteca de fun\u00e7\u00f5es, certifique-se de que as fun\u00e7\u00f5es tenham nomes razo\u00e1veis e docstrings \u00fateis. Caso contr\u00e1rio, voc\u00ea pode ficar confuso com seu pr\u00f3prio c\u00f3digo mais tarde.\n",
    "\n",
    "Este \u00e9 um bom exemplo:"
   ]
  },
  {
   "cell_type": "code",
   "execution_count": 6,
   "id": "catholic-afternoon",
   "metadata": {},
   "outputs": [
    {
     "name": "stdout",
     "output_type": "stream",
     "text": [
      "\n",
      "    Squares a number by multiplying it with itself  and returns its result.\n",
      "    \n"
     ]
    }
   ],
   "source": [
    "print(square.__doc__)"
   ]
  },
  {
   "cell_type": "markdown",
   "id": "textile-cricket",
   "metadata": {},
   "source": [
    "Este \u00e9 um exemplo ruim:"
   ]
  },
  {
   "cell_type": "code",
   "execution_count": 8,
   "id": "lesbian-candy",
   "metadata": {},
   "outputs": [
    {
     "name": "stdout",
     "output_type": "stream",
     "text": [
      "\n",
      "    The wuzzle function manipulates a number in a magic way and returns the result.\n",
      "    \n"
     ]
    }
   ],
   "source": [
    "print(wuzzle.__doc__)"
   ]
  },
  {
   "cell_type": "markdown",
   "id": "approved-violence",
   "metadata": {},
   "source": [
    "## Modificando c\u00f3digo em bibliotecas personalizadas\n",
    "Se voc\u00ea modificar o c\u00f3digo em um arquivo de biblioteca Python lado a lado com o c\u00f3digo em um notebook, pode ser necess\u00e1rio reiniciar seu notebook ap\u00f3s modificar o arquivo da biblioteca. Voc\u00ea pode fazer isso no menu `Kernel > Restart & Run All`."
   ]
  },
  {
   "cell_type": "markdown",
   "id": "liable-press",
   "metadata": {},
   "source": [
    "# Exerc\u00edcio\n",
    "Crie sua pr\u00f3pria biblioteca e escreva uma fun\u00e7\u00e3o que possa calcular a [dist\u00e2ncia Euclidiana](https://en.wikipedia.org/wiki/Euclidean_distance) entre dois pontos. As coordenadas dos pontos s\u00e3o fornecidas como tuplas. Dica: Voc\u00ea precisar\u00e1 de um loop for nesta fun\u00e7\u00e3o que itere par a par sobre as duas coordenadas:"
   ]
  },
  {
   "cell_type": "code",
   "execution_count": 9,
   "id": "worse-reggae",
   "metadata": {},
   "outputs": [],
   "source": [
    "p = (1.5, 6.4, 7.3)\n",
    "q = (3.4, 1.0, 0.9)"
   ]
  },
  {
   "cell_type": "code",
   "execution_count": null,
   "id": "confident-incidence",
   "metadata": {},
   "outputs": [],
   "source": []
  }
 ],
 "metadata": {
  "kernelspec": {
   "display_name": "Python 3",
   "language": "python",
   "name": "python3"
  },
  "language_info": {
   "codemirror_mode": {
    "name": "ipython",
    "version": 3
   },
   "file_extension": ".py",
   "mimetype": "text/x-python",
   "name": "python",
   "nbconvert_exporter": "python",
   "pygments_lexer": "ipython3",
   "version": "3.9.4"
  }
 },
 "nbformat": 4,
 "nbformat_minor": 5
}