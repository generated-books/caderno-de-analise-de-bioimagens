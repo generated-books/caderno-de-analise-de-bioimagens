{
 "cells": [
  {
   "cell_type": "markdown",
   "metadata": {
    "slideshow": {
     "slide_type": "slide"
    }
   },
   "source": [
    "# C\u00f3digo Python em notebooks Jupyter\n",
    "O c\u00f3digo Python pode ser escrito em arquivos \".py\", que podem ser executados a partir da linha de comando. Al\u00e9m disso, para fins acad\u00eamicos, os [notebooks Jupyter](https://jupyter-notebook.readthedocs.io/en/stable/) s\u00e3o frequentemente usados para documentar o que o c\u00f3digo faz e adicionar explica\u00e7\u00f5es adicionais e links para recursos.\n",
    "\n",
    "Veja tamb\u00e9m\n",
    "* [Documenta\u00e7\u00e3o do Python 3](https://docs.python.org/3)\n",
    "* [Fundamentos de Python por Carpentries](https://swcarpentry.github.io/python-novice-inflammation/)\n",
    "* [Tutoriais de Python para processamento de imagens e aprendizado de m\u00e1quina por Digital Sreeni](https://www.youtube.com/playlist?list=PLZsOBAyNTZwYHBIlu_PUO19M7aHMgwBJr)\n",
    "\n",
    "Para escrever nosso primeiro pequeno programa em python, digitamos na c\u00e9lula de c\u00f3digo do notebook Jupyter abaixo. Voc\u00ea pode clicar duas vezes nesta c\u00e9lula, alterar o c\u00f3digo e execut\u00e1-lo pressionando SHIFT+ENTER:"
   ]
  },
  {
   "cell_type": "code",
   "execution_count": 2,
   "metadata": {},
   "outputs": [
    {
     "name": "stdout",
     "output_type": "stream",
     "text": [
      "Hello world\n"
     ]
    }
   ],
   "source": [
    "print(\"Hello world\")"
   ]
  },
  {
   "cell_type": "markdown",
   "metadata": {},
   "source": [
    "* Ao trabalhar com notebooks Jupyter, obviamente SHIFT-ENTER \u00e9 **o** atalho que as pessoas usam o tempo todo. \n",
    "* Se voc\u00ea quiser \"sair\" de uma c\u00e9lula sem execut\u00e1-la, voc\u00ea tamb\u00e9m pode pressionar ESCAPE. \n",
    "* Voc\u00ea pode adicionar uma nova c\u00e9lula **a**cima da c\u00e9lula atual pressionando A e **a**baixo pressionando B. \n",
    "* Voc\u00ea pode excluir c\u00e9lulas pressionando D.\n",
    "\n",
    "Existem mais atalhos. Voc\u00ea pode v\u00ea-los todos no menu acima em Ajuda > Atalhos de teclado ou pressionando H.\n",
    "\n",
    "Experimente!"
   ]
  },
  {
   "cell_type": "code",
   "execution_count": null,
   "metadata": {},
   "outputs": [],
   "source": []
  },
  {
   "cell_type": "code",
   "execution_count": null,
   "metadata": {},
   "outputs": [],
   "source": []
  },
  {
   "cell_type": "code",
   "execution_count": null,
   "metadata": {},
   "outputs": [],
   "source": []
  },
  {
   "cell_type": "markdown",
   "metadata": {
    "slideshow": {
     "slide_type": "slide"
    }
   },
   "source": [
    "## Documenta\u00e7\u00e3o em Markdown nos notebooks Jupyter\n",
    "Markdown \u00e9 uma linguagem de codifica\u00e7\u00e3o para descrever a **formata\u00e7\u00e3o** ~de~ *texto*. Para ver o c\u00f3digo markdown que descreve este texto, clique duas vezes nesta c\u00e9lula em seu notebook Jupyter. Pressione SHIFT+ENTER para retornar ao modo de visualiza\u00e7\u00e3o.\n",
    "\n",
    "* Ponto marcado\n",
    "* Mais pontos marcados\n",
    "  * Pontos marcados mais profundos\n",
    "\n",
    "1. Entrada de lista\n",
    "2. Outra entrada de lista\n",
    "4. Mais entradas de lista\n",
    "8. [Cheatsheet de Markdown](https://github.com/adam-p/markdown-here/wiki/Markdown-Cheatsheet)"
   ]
  },
  {
   "cell_type": "markdown",
   "metadata": {},
   "source": [
    "# Exerc\u00edcio\n",
    "Adicione uma nova c\u00e9lula de c\u00f3digo Python abaixo e use o comando `print` para imprimir seu nome."
   ]
  }
 ],
 "metadata": {
  "kernelspec": {
   "display_name": "Python 3 (ipykernel)",
   "language": "python",
   "name": "python3"
  },
  "language_info": {
   "codemirror_mode": {
    "name": "ipython",
    "version": 3
   },
   "file_extension": ".py",
   "mimetype": "text/x-python",
   "name": "python",
   "nbconvert_exporter": "python",
   "pygments_lexer": "ipython3",
   "version": "3.9.0"
  }
 },
 "nbformat": 4,
 "nbformat_minor": 4
}