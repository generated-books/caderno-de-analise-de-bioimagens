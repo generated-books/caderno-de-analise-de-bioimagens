{
 "cells": [
  {
   "cell_type": "markdown",
   "metadata": {},
   "source": [
    "# Loops\n",
    "Se voc\u00ea deseja que o c\u00f3digo seja executado repetidamente, voc\u00ea pode fazer uso de loops.\n",
    "\n",
    "Veja tamb\u00e9m\n",
    "* [Tutorial de loops em Python](https://www.youtube.com/watch?v=4dN4Cn4u2M0)\n",
    "* [Loops for em Python](https://www.w3schools.com/python/python_for_loops.asp)"
   ]
  },
  {
   "cell_type": "markdown",
   "metadata": {},
   "source": [
    "## Loops For\n",
    "Para percorrer uma s\u00e9rie de n\u00fameros, podemos usar um simples loop `for` e a fun\u00e7\u00e3o [range](https://www.w3schools.com/python/ref_func_range.asp).\n",
    "\n",
    "Na c\u00e9lula a seguir, o comando `print(i)` ser\u00e1 executado v\u00e1rias vezes para diferentes valores de `i`. N\u00f3s **i**teramos sobre uma s\u00e9rie de valores: "
   ]
  },
  {
   "cell_type": "code",
   "execution_count": 1,
   "metadata": {},
   "outputs": [
    {
     "name": "stdout",
     "output_type": "stream",
     "text": [
      "0\n",
      "1\n",
      "2\n",
      "3\n",
      "4\n"
     ]
    }
   ],
   "source": [
    "for i in range(0, 5):\n",
    "    print(i)"
   ]
  },
  {
   "cell_type": "markdown",
   "metadata": {},
   "source": [
    "Note que o c\u00f3digo acima que est\u00e1 indentado s\u00f3 ser\u00e1 executado para o primeiro n\u00famero dado (0) e continuar\u00e1 at\u00e9 o \u00faltimo n\u00famero (5), mas n\u00e3o o incluindo.\n",
    "\n",
    "Voc\u00ea tamb\u00e9m pode percorrer uma s\u00e9rie de n\u00fameros com um passo definido, por exemplo, passo 3:"
   ]
  },
  {
   "cell_type": "code",
   "execution_count": 2,
   "metadata": {},
   "outputs": [
    {
     "name": "stdout",
     "output_type": "stream",
     "text": [
      "0\n",
      "3\n",
      "6\n",
      "9\n"
     ]
    }
   ],
   "source": [
    "for i in range(0, 10, 3):\n",
    "    print(i)"
   ]
  },
  {
   "cell_type": "markdown",
   "metadata": {},
   "source": [
    "Iterar sobre arrays permite que voc\u00ea fa\u00e7a algo com todos os elementos do array:"
   ]
  },
  {
   "cell_type": "code",
   "execution_count": 3,
   "metadata": {},
   "outputs": [
    {
     "name": "stdout",
     "output_type": "stream",
     "text": [
      "Dog\n",
      "Cat\n",
      "Mouse\n"
     ]
    }
   ],
   "source": [
    "for animal in [\"Dog\", \"Cat\", \"Mouse\"]:\n",
    "    print(animal)"
   ]
  },
  {
   "cell_type": "markdown",
   "metadata": {},
   "source": [
    "Voc\u00ea pode iterar sobre dois arrays em paralelo, par a par, desta forma:"
   ]
  },
  {
   "cell_type": "code",
   "execution_count": 4,
   "metadata": {},
   "outputs": [
    {
     "name": "stdout",
     "output_type": "stream",
     "text": [
      "Paired measurements: 1 and 4\n",
      "Paired measurements: 9 and 5\n",
      "Paired measurements: 7 and 5\n",
      "Paired measurements: 1 and 7\n",
      "Paired measurements: 2 and 4\n",
      "Paired measurements: 8 and 5\n",
      "Paired measurements: 9 and 4\n",
      "Paired measurements: 2 and 6\n",
      "Paired measurements: 1 and 6\n",
      "Paired measurements: 7 and 5\n",
      "Paired measurements: 8 and 4\n"
     ]
    }
   ],
   "source": [
    "# going through arrays pair-wise\n",
    "measurement_1 = [1, 9, 7, 1, 2, 8, 9, 2, 1, 7, 8]\n",
    "measurement_2 = [4, 5, 5, 7, 4, 5, 4, 6, 6, 5, 4]\n",
    "\n",
    "for m_1, m_2 in zip(measurement_1, measurement_2):\n",
    "    print(\"Paired measurements: \" + str(m_1) + \" and \" + str(m_2))"
   ]
  },
  {
   "cell_type": "markdown",
   "metadata": {},
   "source": [
    "Se voc\u00ea quiser saber tamb\u00e9m o \u00edndice do elemento na lista, use a fun\u00e7\u00e3o [enumerate](https://realpython.com/python-enumerate/):"
   ]
  },
  {
   "cell_type": "code",
   "execution_count": 5,
   "metadata": {},
   "outputs": [
    {
     "name": "stdout",
     "output_type": "stream",
     "text": [
      "The animal number 0 in the list is Dog\n",
      "The animal number 1 in the list is Cat\n",
      "The animal number 2 in the list is Mouse\n"
     ]
    }
   ],
   "source": [
    "# numbering and iterating through collections\n",
    "for index, animal in enumerate([\"Dog\", \"Cat\", \"Mouse\"]):\n",
    "    print(\"The animal number \" + str(index) + \" in the list is \" + animal)\n"
   ]
  },
  {
   "cell_type": "markdown",
   "metadata": {},
   "source": [
    "## Gerando listas em loops\n",
    "\u00c9 poss\u00edvel gerar listas usando loops for. A forma convencional de fazer isso envolve m\u00faltiplas linhas de c\u00f3digo:"
   ]
  },
  {
   "cell_type": "code",
   "execution_count": 6,
   "metadata": {},
   "outputs": [
    {
     "name": "stdout",
     "output_type": "stream",
     "text": [
      "[0, 2, 4, 6, 8]\n"
     ]
    }
   ],
   "source": [
    "# we start with an empty list\n",
    "numbers = []\n",
    "\n",
    "# and add elements\n",
    "for i in range(0, 5):\n",
    "    numbers.append(i * 2)\n",
    "    \n",
    "print(numbers)"
   ]
  },
  {
   "cell_type": "markdown",
   "metadata": {},
   "source": [
    "Tamb\u00e9m \u00e9 poss\u00edvel escrever isso de forma mais curta. O conceito subjacente \u00e9 chamado de [generators](https://wiki.python.org/moin/Generators)."
   ]
  },
  {
   "cell_type": "code",
   "execution_count": 7,
   "metadata": {},
   "outputs": [
    {
     "name": "stdout",
     "output_type": "stream",
     "text": [
      "[0, 2, 4, 6, 8]\n"
     ]
    }
   ],
   "source": [
    "numbers = [i * 2 for i in range(0, 5)]\n",
    "\n",
    "print(numbers)"
   ]
  },
  {
   "cell_type": "markdown",
   "metadata": {},
   "source": [
    "A combina\u00e7\u00e3o convencional envolvendo declara\u00e7\u00f5es if se parece com isso:"
   ]
  },
  {
   "cell_type": "code",
   "execution_count": 8,
   "metadata": {},
   "outputs": [
    {
     "name": "stdout",
     "output_type": "stream",
     "text": [
      "[2, 6]\n"
     ]
    }
   ],
   "source": [
    "# we start with an empty list\n",
    "numbers = []\n",
    "\n",
    "# and add elements\n",
    "for i in range(0, 5):\n",
    "    # check if the number is odd\n",
    "    if i % 2:\n",
    "        numbers.append(i * 2)\n",
    "    \n",
    "print(numbers)"
   ]
  },
  {
   "cell_type": "markdown",
   "metadata": {},
   "source": [
    "E a vers\u00e3o curta fica assim:"
   ]
  },
  {
   "cell_type": "code",
   "execution_count": 9,
   "metadata": {},
   "outputs": [
    {
     "name": "stdout",
     "output_type": "stream",
     "text": [
      "[2, 6]\n"
     ]
    }
   ],
   "source": [
    "numbers = [i * 2 for i in range(0, 5) if i % 2]\n",
    "\n",
    "print(numbers)"
   ]
  },
  {
   "cell_type": "markdown",
   "metadata": {},
   "source": [
    "## Loops While\n",
    "Outra forma de fazer loops \u00e9 usando o loop `while`. Ele funciona verificando uma condi\u00e7\u00e3o, similar \u00e0 declara\u00e7\u00e3o `if`. Ele interromper\u00e1 a execu\u00e7\u00e3o assim que a condi\u00e7\u00e3o n\u00e3o for mais verdadeira:"
   ]
  },
  {
   "cell_type": "code",
   "execution_count": 10,
   "metadata": {},
   "outputs": [
    {
     "name": "stdout",
     "output_type": "stream",
     "text": [
      "512.0\n",
      "256.0\n",
      "128.0\n",
      "64.0\n",
      "32.0\n",
      "16.0\n",
      "8.0\n",
      "4.0\n",
      "2.0\n",
      "1.0\n"
     ]
    }
   ],
   "source": [
    "number = 1024\n",
    "\n",
    "while (number > 1):\n",
    "    number = number / 2\n",
    "    print(number)"
   ]
  },
  {
   "cell_type": "markdown",
   "metadata": {},
   "source": [
    "## Interrompendo loops\n",
    "Voc\u00ea pode interromper loops em pontos espec\u00edficos do seu c\u00f3digo usando o comando `break`:"
   ]
  },
  {
   "cell_type": "code",
   "execution_count": 11,
   "metadata": {},
   "outputs": [
    {
     "name": "stdout",
     "output_type": "stream",
     "text": [
      "512.0\n",
      "256.0\n",
      "128.0\n",
      "64.0\n",
      "32.0\n",
      "16.0\n",
      "8.0\n",
      "4.0\n",
      "2.0\n",
      "1.0\n",
      "0.5\n"
     ]
    }
   ],
   "source": [
    "number = 1024\n",
    "\n",
    "while (True):\n",
    "    number = number / 2\n",
    "    print(number)\n",
    "    \n",
    "    if number < 1:\n",
    "        break;"
   ]
  },
  {
   "cell_type": "code",
   "execution_count": 12,
   "metadata": {},
   "outputs": [
    {
     "name": "stdout",
     "output_type": "stream",
     "text": [
      "0\n",
      "1\n",
      "2\n",
      "3\n",
      "4\n",
      "5\n",
      "6\n"
     ]
    }
   ],
   "source": [
    "for i in range(10):\n",
    "    print(i)\n",
    "    if i > 5:\n",
    "        break"
   ]
  },
  {
   "cell_type": "markdown",
   "metadata": {},
   "source": [
    "## Pulando itera\u00e7\u00f5es em loops\n",
    "Se voc\u00ea quiser pular itera\u00e7\u00f5es, pode usar a declara\u00e7\u00e3o `continue`. Isso frequentemente faz sentido em combina\u00e7\u00e3o com um `if`:"
   ]
  },
  {
   "cell_type": "code",
   "execution_count": 13,
   "metadata": {},
   "outputs": [
    {
     "name": "stdout",
     "output_type": "stream",
     "text": [
      "0\n",
      "1\n",
      "2\n",
      "7\n",
      "8\n",
      "9\n"
     ]
    }
   ],
   "source": [
    "for i in range(0, 10):\n",
    "    if i >= 3 and i <= 6:\n",
    "        continue\n",
    "    print(i)"
   ]
  },
  {
   "cell_type": "markdown",
   "metadata": {},
   "source": [
    "## Exerc\u00edcio 1\n",
    "Suponha que voc\u00ea tenha uma lista de nomes de arquivos e queira fazer algo com eles, por exemplo, imprimi-los. Programe um loop for que imprima todos os nomes de arquivos que terminam com \"tif\"."
   ]
  },
  {
   "cell_type": "code",
   "execution_count": 14,
   "metadata": {},
   "outputs": [],
   "source": [
    "file_names = ['dataset1.tif', 'dataset2.tif', 'summary.csv', 'readme.md', 'blobs.tif']"
   ]
  },
  {
   "cell_type": "code",
   "execution_count": null,
   "metadata": {},
   "outputs": [],
   "source": []
  },
  {
   "cell_type": "markdown",
   "metadata": {},
   "source": [
    "## Exerc\u00edcio 2\n",
    "Suponha que voc\u00ea tenha uma lista de raios de c\u00edrculos. Fa\u00e7a uma tabela (dicion\u00e1rio) com duas colunas: raio e \u00e1rea."
   ]
  },
  {
   "cell_type": "code",
   "execution_count": 15,
   "metadata": {},
   "outputs": [],
   "source": [
    "radii = [3, 15, 67, 33, 12, 8, 12, 9, 22]"
   ]
  },
  {
   "cell_type": "code",
   "execution_count": null,
   "metadata": {},
   "outputs": [],
   "source": []
  }
 ],
 "metadata": {
  "kernelspec": {
   "display_name": "Python 3 (ipykernel)",
   "language": "python",
   "name": "python3"
  },
  "language_info": {
   "codemirror_mode": {
    "name": "ipython",
    "version": 3
   },
   "file_extension": ".py",
   "mimetype": "text/x-python",
   "name": "python",
   "nbconvert_exporter": "python",
   "pygments_lexer": "ipython3",
   "version": "3.9.0"
  },
  "toc": {
   "base_numbering": 1,
   "nav_menu": {},
   "number_sections": false,
   "sideBar": false,
   "skip_h1_title": false,
   "title_cell": "Table of Contents",
   "title_sidebar": "Contents",
   "toc_cell": false,
   "toc_position": {},
   "toc_section_display": false,
   "toc_window_display": false
  }
 },
 "nbformat": 4,
 "nbformat_minor": 4
}