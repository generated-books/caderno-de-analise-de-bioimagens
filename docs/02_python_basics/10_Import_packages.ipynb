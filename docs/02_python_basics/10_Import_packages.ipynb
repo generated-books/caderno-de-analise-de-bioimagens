{
 "cells": [
  {
   "cell_type": "markdown",
   "id": "10cc5ddb-417d-43cd-ba12-e4c781850d67",
   "metadata": {},
   "source": [
    "# Importando fun\u00e7\u00f5es e pacotes\n",
    "\n",
    "Muito frequentemente, precisamos de ferramentas que n\u00e3o s\u00e3o fornecidas diretamente pela biblioteca padr\u00e3o do Python. Nesse caso, precisamos importar as fun\u00e7\u00f5es necess\u00e1rias de m\u00f3dulos ou pacotes para nossos notebooks ou scripts. Alguns m\u00f3dulos v\u00eam diretamente com a distribui\u00e7\u00e3o Python (como o m\u00f3dulo math visto em [Matem\u00e1tica b\u00e1sica em python](Math_in_python.ipynb)), e alguns outros como Numpy, scikit-image etc. s\u00e3o pacotes externos instalados com pip ou conda. Quando se trata de importa\u00e7\u00e3o, eles funcionam da mesma maneira, e temos v\u00e1rias formas de importar fun\u00e7\u00f5es individuais ou grupos delas."
   ]
  },
  {
   "cell_type": "markdown",
   "id": "ab468beb-e517-4468-86bb-bf6b8ba96a9f",
   "metadata": {},
   "source": [
    "## Importa\u00e7\u00e3o b\u00e1sica\n",
    "\n",
    "A declara\u00e7\u00e3o de importa\u00e7\u00e3o b\u00e1sica usa as palavras-chave ```import``` e o nome do m\u00f3dulo. Por exemplo, com o m\u00f3dulo b\u00e1sico do Python ```pathlib``` que lida com caminhos e nomes de arquivos:"
   ]
  },
  {
   "cell_type": "code",
   "execution_count": 13,
   "id": "d00dce4e-c426-484c-bd41-2905dc99f59c",
   "metadata": {},
   "outputs": [],
   "source": [
    "import pathlib"
   ]
  },
  {
   "cell_type": "markdown",
   "id": "130dff08-9326-4df4-999f-fb98d1172617",
   "metadata": {},
   "source": [
    "Se quisermos importar um pacote externo, precisamos garantir que ele esteja realmente instalado, caso contr\u00e1rio, recebemos uma mensagem de erro:"
   ]
  },
  {
   "cell_type": "code",
   "execution_count": 14,
   "id": "3d20edb7-7cec-4ea0-a46a-51f7584bf635",
   "metadata": {},
   "outputs": [
    {
     "ename": "ModuleNotFoundError",
     "evalue": "No module named 'absent_package'",
     "output_type": "error",
     "traceback": [
      "\u001b[0;31m---------------------------------------------------------------------------\u001b[0m",
      "\u001b[0;31mModuleNotFoundError\u001b[0m                       Traceback (most recent call last)",
      "Input \u001b[0;32mIn [14]\u001b[0m, in \u001b[0;36m<cell line: 1>\u001b[0;34m()\u001b[0m\n\u001b[0;32m----> 1\u001b[0m \u001b[38;5;28;01mimport\u001b[39;00m \u001b[38;5;21;01mabsent_package\u001b[39;00m\n",
      "\u001b[0;31mModuleNotFoundError\u001b[0m: No module named 'absent_package'"
     ]
    }
   ],
   "source": [
    "import absent_package"
   ]
  },
  {
   "cell_type": "markdown",
   "id": "e8cfed05-6309-4c37-8ee1-a0ab74a70552",
   "metadata": {},
   "source": [
    "Se voc\u00ea tiver um pacote faltando, pode instal\u00e1-lo diretamente do notebook usando pip ou conda. Por exemplo, se o Numpy ainda n\u00e3o estiver instalado, voc\u00ea poderia executar:"
   ]
  },
  {
   "cell_type": "code",
   "execution_count": 41,
   "id": "6cb89fc2-a2c1-44ca-915c-bfd9f185a368",
   "metadata": {},
   "outputs": [
    {
     "name": "stdout",
     "output_type": "stream",
     "text": [
      "Collecting package metadata (current_repodata.json): done\n",
      "Solving environment: done\n",
      "\n",
      "# All requested packages already installed.\n",
      "\n",
      "\n",
      "Note: you may need to restart the kernel to use updated packages.\n"
     ]
    }
   ],
   "source": [
    "conda install -c conda-forge numpy"
   ]
  },
  {
   "cell_type": "markdown",
   "id": "adbad354-b227-41d1-bc97-7b4a386dc8cc",
   "metadata": {},
   "source": [
    "## Formula\u00e7\u00e3o alternativa de importa\u00e7\u00e3o\n",
    "\n",
    "Usando a formula\u00e7\u00e3o simples acima, obtemos acesso a fun\u00e7\u00f5es diretamente anexadas ao pacote principal. Vamos importar o pacote Numpy que usaremos mais tarde para manipular imagens. Podemos import\u00e1-lo:"
   ]
  },
  {
   "cell_type": "code",
   "execution_count": 15,
   "id": "c5374a88-b2cf-4963-b076-616bfaeb6aff",
   "metadata": {},
   "outputs": [],
   "source": [
    "import numpy"
   ]
  },
  {
   "cell_type": "markdown",
   "id": "caf83b1e-76e7-4a2b-aabb-2180dae9148f",
   "metadata": {},
   "source": [
    "e agora temos acesso, por exemplo, \u00e0 fun\u00e7\u00e3o cosseno do Numpy simplesmente usando a nota\u00e7\u00e3o de ponto:"
   ]
  },
  {
   "cell_type": "code",
   "execution_count": 16,
   "id": "952e16a1-9684-4867-9273-247ad6707eeb",
   "metadata": {},
   "outputs": [
    {
     "data": {
      "text/plain": [
       "-0.9999987317275395"
      ]
     },
     "execution_count": 16,
     "metadata": {},
     "output_type": "execute_result"
    }
   ],
   "source": [
    "numpy.cos(3.14)"
   ]
  },
  {
   "cell_type": "markdown",
   "id": "f73a553c-1cec-4ad8-a8f9-6601d03e788f",
   "metadata": {},
   "source": [
    "Para encontrar todas as fun\u00e7\u00f5es dispon\u00edveis em um pacote ou m\u00f3dulo, voc\u00ea geralmente precisa ir \u00e0 sua documenta\u00e7\u00e3o e procurar pela *Interface de Programa\u00e7\u00e3o de Aplicativos* ou *API*. Por exemplo, aqui encontramos uma descri\u00e7\u00e3o de todas as fun\u00e7\u00f5es matem\u00e1ticas (incluindo o cosseno) do Numpy: https://numpy.org/doc/stable/reference/routines.math.html"
   ]
  },
  {
   "cell_type": "markdown",
   "id": "42490a15-3988-4359-a1c6-9a9c588a3c0e",
   "metadata": {},
   "source": [
    "### Abrevia\u00e7\u00e3o de nome\n",
    "\n",
    "Se usamos um pacote regularmente, podemos n\u00e3o querer escrever o nome completo do pacote toda vez que precisamos de uma fun\u00e7\u00e3o dele. Para evitar isso, podemos abrevi\u00e1-lo no momento da importa\u00e7\u00e3o usando a declara\u00e7\u00e3o ```as```:"
   ]
  },
  {
   "cell_type": "code",
   "execution_count": 17,
   "id": "f3ab4b68-d1a6-4708-aafb-a95c9efee4a8",
   "metadata": {},
   "outputs": [],
   "source": [
    "import numpy as np"
   ]
  },
  {
   "cell_type": "code",
   "execution_count": 18,
   "id": "b19bb26d-d119-4120-8152-0336c949c069",
   "metadata": {},
   "outputs": [
    {
     "data": {
      "text/plain": [
       "-0.9999987317275395"
      ]
     },
     "execution_count": 18,
     "metadata": {},
     "output_type": "execute_result"
    }
   ],
   "source": [
    "np.cos(3.14)"
   ]
  },
  {
   "cell_type": "markdown",
   "id": "60f63fce-d4dc-42ff-b4e7-4b168d709bab",
   "metadata": {},
   "source": [
    "### Fun\u00e7\u00f5es espec\u00edficas\n",
    "\n",
    "Se precisarmos apenas de uma fun\u00e7\u00e3o espec\u00edfica de um pacote, tamb\u00e9m podemos import\u00e1-la usando a declara\u00e7\u00e3o ```from```. Por exemplo, se quisermos importar apenas a fun\u00e7\u00e3o ```np.cos``` acima:"
   ]
  },
  {
   "cell_type": "code",
   "execution_count": 19,
   "id": "918ca0db-90e9-47b3-9c53-4652049843f1",
   "metadata": {},
   "outputs": [],
   "source": [
    "from numpy import cos"
   ]
  },
  {
   "cell_type": "code",
   "execution_count": 20,
   "id": "8374d32d-7a48-43cb-ad55-b564f87cc2b4",
   "metadata": {},
   "outputs": [
    {
     "data": {
      "text/plain": [
       "-0.9999987317275395"
      ]
     },
     "execution_count": 20,
     "metadata": {},
     "output_type": "execute_result"
    }
   ],
   "source": [
    "cos(3.14)"
   ]
  },
  {
   "cell_type": "markdown",
   "id": "23644840-840f-4ecd-b09a-4fee262678ce",
   "metadata": {},
   "source": [
    "Claro que neste caso, a menos que encontremos a linha espec\u00edfica onde a fun\u00e7\u00e3o \u00e9 importada, n\u00e3o sabemos que ```cos``` necessariamente pertence ao Numpy, pois poder\u00edamos ter definido tal fun\u00e7\u00e3o no notebook."
   ]
  },
  {
   "cell_type": "markdown",
   "id": "ba26add4-d1dd-4123-90da-38d0b8d61409",
   "metadata": {},
   "source": [
    "## Subm\u00f3dulos\n",
    "\n",
    "Em pacotes maiores como o Numpy, algumas fun\u00e7\u00f5es s\u00e3o diretamente acess\u00edveis do pacote principal (como ```np.cos```) e outras com tarefas mais especializadas s\u00e3o agrupadas por t\u00f3pico ou dom\u00ednio em subm\u00f3dulos. Por exemplo, o Numpy tem um subm\u00f3dulo dedicado a distribui\u00e7\u00f5es chamado ```random```. Todos os pontos vistos acima ainda s\u00e3o v\u00e1lidos aqui.\n",
    "\n",
    "Usamos a nota\u00e7\u00e3o de ponto para acessar fun\u00e7\u00f5es, mas agora precisamos especificar tamb\u00e9m o nome do subm\u00f3dulo. Por exemplo, a fun\u00e7\u00e3o ```normal``` que gera n\u00fameros extra\u00eddos de uma distribui\u00e7\u00e3o normal:"
   ]
  },
  {
   "cell_type": "code",
   "execution_count": 31,
   "id": "108d12fd-041a-4f48-9f92-58479d5eb9cd",
   "metadata": {},
   "outputs": [
    {
     "data": {
      "text/plain": [
       "1.8077301364791438"
      ]
     },
     "execution_count": 31,
     "metadata": {},
     "output_type": "execute_result"
    }
   ],
   "source": [
    "np.random.normal()"
   ]
  },
  {
   "cell_type": "markdown",
   "id": "ff382ef6-de48-49b7-968b-7120fb505367",
   "metadata": {},
   "source": [
    "Podemos encurtar a chamada da fun\u00e7\u00e3o importando apenas o subm\u00f3dulo:"
   ]
  },
  {
   "cell_type": "code",
   "execution_count": 32,
   "id": "e60dc664-f66a-475c-86d5-44cdc8448826",
   "metadata": {},
   "outputs": [],
   "source": [
    "from numpy import random"
   ]
  },
  {
   "cell_type": "code",
   "execution_count": 33,
   "id": "8c8470b2-882f-4cda-8c1f-795c22db05ab",
   "metadata": {},
   "outputs": [
    {
     "data": {
      "text/plain": [
       "0.0909924357071552"
      ]
     },
     "execution_count": 33,
     "metadata": {},
     "output_type": "execute_result"
    }
   ],
   "source": [
    "random.normal()"
   ]
  },
  {
   "cell_type": "markdown",
   "id": "f7e64bd9-1127-43cb-96db-60a12a56ea48",
   "metadata": {},
   "source": [
    "e podemos encurtar ainda mais importando apenas a fun\u00e7\u00e3o:"
   ]
  },
  {
   "cell_type": "code",
   "execution_count": 34,
   "id": "eb009d0d-5b8f-49ab-8a5e-d16c972837b8",
   "metadata": {},
   "outputs": [],
   "source": [
    "from numpy.random import normal"
   ]
  },
  {
   "cell_type": "code",
   "execution_count": 35,
   "id": "5533cd1d-1f0e-47d7-acb5-ad0ea6772019",
   "metadata": {},
   "outputs": [
    {
     "data": {
      "text/plain": [
       "0.0038794083334154307"
      ]
     },
     "execution_count": 35,
     "metadata": {},
     "output_type": "execute_result"
    }
   ],
   "source": [
    "normal()"
   ]
  },
  {
   "cell_type": "markdown",
   "id": "cc770a20-0014-4b6c-b12e-3fa6b1d72f22",
   "metadata": {},
   "source": [
    "## Exerc\u00edcio\n",
    "\n",
    "O pacote Numpy tem um subm\u00f3dulo de \u00e1lgebra linear chamado ```linalg```. O seguinte c\u00f3digo calcula a norma de um vetor: ```np.linalg.norm([1,2])```. Tente:\n",
    "- importar apenas o subm\u00f3dulo e chamar a mesma fun\u00e7\u00e3o\n",
    "- importar apenas a fun\u00e7\u00e3o ```norm``` e cham\u00e1-la\n",
    " "
   ]
  },
  {
   "cell_type": "code",
   "execution_count": null,
   "id": "72dc7b73-b072-411d-92f3-a7c9cce4395f",
   "metadata": {},
   "outputs": [],
   "source": []
  }
 ],
 "metadata": {
  "kernelspec": {
   "display_name": "Python 3 (ipykernel)",
   "language": "python",
   "name": "python3"
  },
  "language_info": {
   "codemirror_mode": {
    "name": "ipython",
    "version": 3
   },
   "file_extension": ".py",
   "mimetype": "text/x-python",
   "name": "python",
   "nbconvert_exporter": "python",
   "pygments_lexer": "ipython3",
   "version": "3.9.19"
  }
 },
 "nbformat": 4,
 "nbformat_minor": 5
}