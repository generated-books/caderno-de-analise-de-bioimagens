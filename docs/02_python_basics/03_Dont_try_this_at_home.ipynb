{
 "cells": [
  {
   "cell_type": "markdown",
   "id": "frank-basement",
   "metadata": {},
   "source": [
    "# Armadilhas ao trabalhar com notebooks Jupyter\n",
    "Voc\u00ea pode executar a mesma c\u00e9lula em notebooks Jupyter v\u00e1rias vezes. Isso pode levar a notebooks que n\u00e3o fazem sentido para o leitor."
   ]
  },
  {
   "cell_type": "code",
   "execution_count": 3,
   "id": "metallic-classification",
   "metadata": {},
   "outputs": [],
   "source": [
    "a = 5\n",
    "b = 5"
   ]
  },
  {
   "cell_type": "code",
   "execution_count": 6,
   "id": "wired-crowd",
   "metadata": {},
   "outputs": [],
   "source": [
    "a = a + 1"
   ]
  },
  {
   "cell_type": "code",
   "execution_count": 7,
   "id": "shaped-capital",
   "metadata": {},
   "outputs": [
    {
     "data": {
      "text/plain": [
       "13"
      ]
     },
     "execution_count": 7,
     "metadata": {},
     "output_type": "execute_result"
    }
   ],
   "source": [
    "a + b"
   ]
  },
  {
   "cell_type": "markdown",
   "id": "olympic-vienna",
   "metadata": {},
   "source": [
    "Voc\u00ea pode execut\u00e1-las na ordem errada, o que leva ao mesmo efeito."
   ]
  },
  {
   "cell_type": "code",
   "execution_count": 10,
   "id": "backed-shaft",
   "metadata": {},
   "outputs": [],
   "source": [
    "d = 5"
   ]
  },
  {
   "cell_type": "code",
   "execution_count": 9,
   "id": "military-bedroom",
   "metadata": {},
   "outputs": [],
   "source": [
    "d = 10"
   ]
  },
  {
   "cell_type": "code",
   "execution_count": 11,
   "id": "radical-shakespeare",
   "metadata": {},
   "outputs": [
    {
     "data": {
      "text/plain": [
       "5"
      ]
     },
     "execution_count": 11,
     "metadata": {},
     "output_type": "execute_result"
    }
   ],
   "source": [
    "d"
   ]
  },
  {
   "cell_type": "markdown",
   "id": "persistent-porcelain",
   "metadata": {},
   "source": [
    "Voc\u00ea pode ver que as c\u00e9lulas foram executadas na ordem errada, repetidamente ou n\u00e3o subsequentemente, lendo o n\u00famero `In [?]` \u00e0 esquerda.\n",
    "\n",
    "![](cell_execution_number.png)\n",
    "\n",
    "Dica: Quando seu notebook estiver pronto, clique no menu `Kernel > Restart & Run all` para garantir que todas as c\u00e9lulas no notebook sejam executadas na ordem correta."
   ]
  },
  {
   "cell_type": "code",
   "execution_count": null,
   "id": "conservative-cyprus",
   "metadata": {},
   "outputs": [],
   "source": []
  }
 ],
 "metadata": {
  "kernelspec": {
   "display_name": "Python 3 (ipykernel)",
   "language": "python",
   "name": "python3"
  },
  "language_info": {
   "codemirror_mode": {
    "name": "ipython",
    "version": 3
   },
   "file_extension": ".py",
   "mimetype": "text/x-python",
   "name": "python",
   "nbconvert_exporter": "python",
   "pygments_lexer": "ipython3",
   "version": "3.9.0"
  }
 },
 "nbformat": 4,
 "nbformat_minor": 5
}