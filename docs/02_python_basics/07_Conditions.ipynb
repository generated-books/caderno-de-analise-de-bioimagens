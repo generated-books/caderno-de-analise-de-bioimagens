{
 "cells": [
  {
   "cell_type": "markdown",
   "id": "casual-purpose",
   "metadata": {},
   "source": [
    "# Condi\u00e7\u00f5es\n",
    "A declara\u00e7\u00e3o `if` pode ser usada para executar c\u00f3digo condicionalmente. Isso significa apenas se uma express\u00e3o for verdadeira.\n",
    "\n",
    "Veja tamb\u00e9m:\n",
    "* [if\u2026elif\u2026else em Python](https://www.datacamp.com/community/tutorials/elif-statements-python)\n",
    "\n",
    "Vamos dar uma olhada em algumas express\u00f5es primeiro"
   ]
  },
  {
   "cell_type": "code",
   "execution_count": 1,
   "id": "sensitive-graham",
   "metadata": {},
   "outputs": [
    {
     "data": {
      "text/plain": [
       "False"
      ]
     },
     "execution_count": 1,
     "metadata": {},
     "output_type": "execute_result"
    }
   ],
   "source": [
    "3 > 4"
   ]
  },
  {
   "cell_type": "code",
   "execution_count": 2,
   "id": "spare-official",
   "metadata": {},
   "outputs": [
    {
     "data": {
      "text/plain": [
       "False"
      ]
     },
     "execution_count": 2,
     "metadata": {},
     "output_type": "execute_result"
    }
   ],
   "source": [
    "a = 3\n",
    "b = 4\n",
    "\n",
    "a > b"
   ]
  },
  {
   "cell_type": "code",
   "execution_count": 3,
   "id": "olive-supervisor",
   "metadata": {},
   "outputs": [
    {
     "data": {
      "text/plain": [
       "True"
      ]
     },
     "execution_count": 3,
     "metadata": {},
     "output_type": "execute_result"
    }
   ],
   "source": [
    "a < b"
   ]
  },
  {
   "cell_type": "code",
   "execution_count": 4,
   "id": "gorgeous-summit",
   "metadata": {},
   "outputs": [
    {
     "data": {
      "text/plain": [
       "True"
      ]
     },
     "execution_count": 4,
     "metadata": {},
     "output_type": "execute_result"
    }
   ],
   "source": [
    "# n\u00e3o igual\n",
    "a != b"
   ]
  },
  {
   "cell_type": "code",
   "execution_count": 5,
   "id": "assisted-governor",
   "metadata": {},
   "outputs": [
    {
     "data": {
      "text/plain": [
       "False"
      ]
     },
     "execution_count": 5,
     "metadata": {},
     "output_type": "execute_result"
    }
   ],
   "source": [
    "# igual\n",
    "a == b"
   ]
  },
  {
   "cell_type": "code",
   "execution_count": 6,
   "id": "looking-activation",
   "metadata": {},
   "outputs": [],
   "source": [
    "# Nota: N\u00e3o confunda com isso:\n",
    "a = b"
   ]
  },
  {
   "cell_type": "markdown",
   "id": "complimentary-blade",
   "metadata": {},
   "source": [
    "## A declara\u00e7\u00e3o `if`\n",
    "Ap\u00f3s usar `if` em combina\u00e7\u00e3o com uma express\u00e3o, voc\u00ea precisa colocar dois pontos `:` e o c\u00f3digo seguinte deve ser indentado:"
   ]
  },
  {
   "cell_type": "code",
   "execution_count": 7,
   "id": "cathedral-circumstances",
   "metadata": {},
   "outputs": [
    {
     "name": "stdout",
     "output_type": "stream",
     "text": [
      "Math is great.\n"
     ]
    }
   ],
   "source": [
    "if 3 < 4:\n",
    "    print(\"A matem\u00e1tica \u00e9 \u00f3tima.\")"
   ]
  },
  {
   "cell_type": "code",
   "execution_count": 8,
   "id": "provincial-pulse",
   "metadata": {},
   "outputs": [],
   "source": [
    "if 3 > 4:\n",
    "    print(\"A matem\u00e1tica \u00e9 estranha.\")"
   ]
  },
  {
   "cell_type": "markdown",
   "id": "affecting-robert",
   "metadata": {},
   "source": [
    "Voc\u00ea tamb\u00e9m pode escrever compara\u00e7\u00f5es mais sofisticadas:"
   ]
  },
  {
   "cell_type": "code",
   "execution_count": 9,
   "id": "noble-safety",
   "metadata": {},
   "outputs": [
    {
     "name": "stdout",
     "output_type": "stream",
     "text": [
      "C is between 4 and 20.\n"
     ]
    }
   ],
   "source": [
    "c = 10\n",
    "\n",
    "if 4 < c < 20:\n",
    "    print(\"C est\u00e1 entre 4 e 20.\")"
   ]
  },
  {
   "cell_type": "markdown",
   "id": "minute-exclusion",
   "metadata": {},
   "source": [
    "Ou combine express\u00f5es usando `and` e `or`:"
   ]
  },
  {
   "cell_type": "code",
   "execution_count": 10,
   "id": "stuffed-intermediate",
   "metadata": {},
   "outputs": [],
   "source": [
    "if c > 4 and c < 10:\n",
    "    print(\"C est\u00e1 entre 4 e 20.\")"
   ]
  },
  {
   "cell_type": "markdown",
   "id": "democratic-cutting",
   "metadata": {},
   "source": [
    "Se voc\u00ea quiser verificar se um elemento est\u00e1 em uma matriz, fa\u00e7a assim:"
   ]
  },
  {
   "cell_type": "code",
   "execution_count": 11,
   "id": "disciplinary-spelling",
   "metadata": {},
   "outputs": [
    {
     "name": "stdout",
     "output_type": "stream",
     "text": [
      "Our list of animals contains a cat\n"
     ]
    }
   ],
   "source": [
    "animals = ['cat', 'dog', 'mouse']\n",
    "\n",
    "if 'cat' in animals:\n",
    "    print('Nossa lista de animais cont\u00e9m um gato')"
   ]
  },
  {
   "cell_type": "markdown",
   "id": "vietnamese-instrument",
   "metadata": {},
   "source": [
    "Voc\u00ea tamb\u00e9m pode analisar strings. Por exemplo, verificar se elas come\u00e7am ou terminam com certos caracteres:"
   ]
  },
  {
   "cell_type": "code",
   "execution_count": 12,
   "id": "demanding-scott",
   "metadata": {},
   "outputs": [
    {
     "name": "stdout",
     "output_type": "stream",
     "text": [
      "The file is an image!\n"
     ]
    }
   ],
   "source": [
    "filename = \"cells.tif\"\n",
    "\n",
    "if filename.endswith(\"tif\"):\n",
    "    print(\"O arquivo \u00e9 uma imagem!\")"
   ]
  },
  {
   "cell_type": "markdown",
   "id": "naked-penny",
   "metadata": {},
   "source": [
    "## A declara\u00e7\u00e3o `if-else`\n",
    "Se voc\u00ea tem duas partes diferentes de c\u00f3digo que devem ser executadas alternativamente, use `if-else`:"
   ]
  },
  {
   "cell_type": "code",
   "execution_count": 13,
   "id": "sophisticated-forum",
   "metadata": {},
   "outputs": [
    {
     "name": "stdout",
     "output_type": "stream",
     "text": [
      "We need to improve our quality.\n"
     ]
    }
   ],
   "source": [
    "quality_in_percent = 89\n",
    "\n",
    "if quality_in_percent > 90:    \n",
    "    print(\"Nossa qualidade \u00e9 alta o suficiente.\")\n",
    "else:\n",
    "    print(\"Precisamos melhorar nossa qualidade.\")"
   ]
  },
  {
   "cell_type": "markdown",
   "id": "shared-ground",
   "metadata": {},
   "source": [
    "## A declara\u00e7\u00e3o `elif`\n",
    "Para executar c\u00f3digo dependendo de m\u00faltiplas condi\u00e7\u00f5es, use a declara\u00e7\u00e3o `elif`:"
   ]
  },
  {
   "cell_type": "code",
   "execution_count": 14,
   "id": "compound-alliance",
   "metadata": {},
   "outputs": [
    {
     "name": "stdout",
     "output_type": "stream",
     "text": [
      "You scored 23 out of 30\n",
      "Your grade is 3\n"
     ]
    }
   ],
   "source": [
    "# determinando a nota do exame dependendo de \n",
    "number_of_correct_points = 23\n",
    "number_of_total_points = 30\n",
    "\n",
    "# calcula a porcentagem\n",
    "percentage = number_of_correct_points / number_of_total_points * 100\n",
    "\n",
    "if percentage > 95:\n",
    "    grade = 1\n",
    "elif percentage > 80:\n",
    "    grade = 2\n",
    "elif percentage > 60:\n",
    "    grade = 3\n",
    "elif percentag > 50:\n",
    "    grade = 4\n",
    "else:\n",
    "    grade = 5\n",
    "    \n",
    "print(\"Voc\u00ea pontuou\", number_of_correct_points, \"de\", number_of_total_points)\n",
    "print(\"Sua nota \u00e9\", grade)"
   ]
  },
  {
   "cell_type": "markdown",
   "id": "italic-motor",
   "metadata": {},
   "source": [
    "## Exerc\u00edcio\n",
    "Escreva um c\u00f3digo Python que imprima o per\u00edodo do dia, por exemplo, \"manh\u00e3\", \"meio-dia\", \"tarde\", \"noite\" e \"madrugada\" dependendo de um hor\u00e1rio dado."
   ]
  },
  {
   "cell_type": "code",
   "execution_count": 15,
   "id": "hawaiian-bryan",
   "metadata": {},
   "outputs": [],
   "source": [
    "# s\u00e3o 12:15\n",
    "time_hours = 12\n",
    "time_minutes = 15"
   ]
  },
  {
   "cell_type": "code",
   "execution_count": null,
   "id": "biblical-style",
   "metadata": {},
   "outputs": [],
   "source": []
  }
 ],
 "metadata": {
  "kernelspec": {
   "display_name": "Python 3 (ipykernel)",
   "language": "python",
   "name": "python3"
  },
  "language_info": {
   "codemirror_mode": {
    "name": "ipython",
    "version": 3
   },
   "file_extension": ".py",
   "mimetype": "text/x-python",
   "name": "python",
   "nbconvert_exporter": "python",
   "pygments_lexer": "ipython3",
   "version": "3.9.0"
  }
 },
 "nbformat": 4,
 "nbformat_minor": 5
}