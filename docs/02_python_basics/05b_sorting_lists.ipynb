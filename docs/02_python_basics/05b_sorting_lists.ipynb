{
 "cells": [
  {
   "cell_type": "markdown",
   "id": "2bac9780-3f38-4f74-9a22-577e2a4c6643",
   "metadata": {},
   "source": [
    "# Ordenando listas\n",
    "Ao trabalhar com formas simples de dados, por exemplo, uma lista de medi\u00e7\u00f5es, pode ser \u00fatil orden\u00e1-los. Com isso, poder\u00edamos, por exemplo, acessar rapidamente os menores n\u00fameros em uma lista.\n",
    "\n",
    "Vamos come\u00e7ar novamente com uma lista de n\u00fameros"
   ]
  },
  {
   "cell_type": "code",
   "execution_count": 1,
   "id": "24617c60-0f20-4d12-ae69-b99630fbd919",
   "metadata": {},
   "outputs": [
    {
     "data": {
      "text/plain": [
       "[34, 0, 65, 23, 51, 9, 50, 78, 34, 100]"
      ]
     },
     "execution_count": 1,
     "metadata": {},
     "output_type": "execute_result"
    }
   ],
   "source": [
    "data = [34, 0, 65, 23, 51, 9, 50, 78, 34, 100]\n",
    "data"
   ]
  },
  {
   "cell_type": "markdown",
   "id": "21077e88-518e-4f68-94b8-2d77e87b4058",
   "metadata": {},
   "source": [
    "Existe a opera\u00e7\u00e3o [sort](https://docs.python.org/3/library/stdtypes.html?highlight=sort#list.sort), que realmente modifica uma lista:"
   ]
  },
  {
   "cell_type": "code",
   "execution_count": 2,
   "id": "b6ea27f0-1a39-4750-be11-f32302f9221a",
   "metadata": {},
   "outputs": [
    {
     "data": {
      "text/plain": [
       "[0, 9, 23, 34, 34, 50, 51, 65, 78, 100]"
      ]
     },
     "execution_count": 2,
     "metadata": {},
     "output_type": "execute_result"
    }
   ],
   "source": [
    "data.sort()\n",
    "data"
   ]
  },
  {
   "cell_type": "markdown",
   "id": "047fd778-15dc-4d31-8029-f403ad4f555a",
   "metadata": {},
   "source": [
    "Portanto, devemos executar as c\u00e9lulas do Jupyter notebook em ordem porque a vari\u00e1vel `data` \u00e9 posteriormente modificada (devemos fazer isso de qualquer maneira).\n",
    "\n",
    "Ap\u00f3s a ordena\u00e7\u00e3o, isso nos dar\u00e1 as tr\u00eas menores entradas na lista:"
   ]
  },
  {
   "cell_type": "code",
   "execution_count": 3,
   "id": "37a90146-5349-483f-a59f-65a085e11210",
   "metadata": {},
   "outputs": [
    {
     "data": {
      "text/plain": [
       "[0, 9, 23]"
      ]
     },
     "execution_count": 3,
     "metadata": {},
     "output_type": "execute_result"
    }
   ],
   "source": [
    "data[:3]"
   ]
  },
  {
   "cell_type": "markdown",
   "id": "ed4fa049-f856-4dce-9611-bfd15aea4b0f",
   "metadata": {},
   "source": [
    "E isso nos dar\u00e1 os tr\u00eas maiores n\u00fameros:"
   ]
  },
  {
   "cell_type": "code",
   "execution_count": 4,
   "id": "a7cf8c3e-6728-4b2a-aa55-09fb813ca566",
   "metadata": {},
   "outputs": [
    {
     "data": {
      "text/plain": [
       "[65, 78, 100]"
      ]
     },
     "execution_count": 4,
     "metadata": {},
     "output_type": "execute_result"
    }
   ],
   "source": [
    "data[-3:]"
   ]
  },
  {
   "cell_type": "markdown",
   "id": "59652f9a-e7f8-430a-af79-80d91a902bef",
   "metadata": {},
   "source": [
    "## Exerc\u00edcio\n",
    "Descubra a [mediana](https://en.wikipedia.org/wiki/Median) destas duas listas de n\u00fameros:"
   ]
  },
  {
   "cell_type": "code",
   "execution_count": 5,
   "id": "50f4cac1-b627-45af-a966-908e09812cfe",
   "metadata": {},
   "outputs": [],
   "source": [
    "data1 = [6, 4, 3, 4, 8, 10]"
   ]
  },
  {
   "cell_type": "code",
   "execution_count": 6,
   "id": "6b3c6eec-c6af-451a-bf3f-098463166531",
   "metadata": {},
   "outputs": [],
   "source": [
    "data2 = [6, 4, 3, 4, 8, 10, 8]"
   ]
  },
  {
   "cell_type": "code",
   "execution_count": null,
   "id": "3cec52eb-8d46-4431-8f28-387e98e8091c",
   "metadata": {},
   "outputs": [],
   "source": []
  }
 ],
 "metadata": {
  "kernelspec": {
   "display_name": "Python 3 (ipykernel)",
   "language": "python",
   "name": "python3"
  },
  "language_info": {
   "codemirror_mode": {
    "name": "ipython",
    "version": 3
   },
   "file_extension": ".py",
   "mimetype": "text/x-python",
   "name": "python",
   "nbconvert_exporter": "python",
   "pygments_lexer": "ipython3",
   "version": "3.9.0"
  }
 },
 "nbformat": 4,
 "nbformat_minor": 5
}