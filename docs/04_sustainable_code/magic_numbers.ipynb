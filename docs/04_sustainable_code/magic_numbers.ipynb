{
 "cells": [
  {
   "cell_type": "markdown",
   "id": "5230dc33-291b-4748-a4c8-77bb80036486",
   "metadata": {},
   "source": [
    "# Evitar n\u00fameros m\u00e1gicos\n",
    "Ao ler c\u00f3digo, \u00e0s vezes encontramos n\u00fameros no c\u00f3digo onde n\u00e3o \u00e9 \u00f3bvio o que eles fazem. No entanto, quando os alteramos, de repente nosso programa deixa de funcionar. Chamamos esses n\u00fameros de [n\u00fameros m\u00e1gicos](https://en.wikipedia.org/wiki/Magic_number_(programming)). Por exemplo, voc\u00ea sabe o que o `3` e o `7` no c\u00f3digo abaixo fazem?"
   ]
  },
  {
   "cell_type": "code",
   "execution_count": 1,
   "id": "c0ddc835-d1a8-4d05-abc6-9df2e606b9fe",
   "metadata": {},
   "outputs": [],
   "source": [
    "from skimage.io import imread\n",
    "from skimage.filters import gaussian, threshold_otsu\n",
    "from skimage.measure import label"
   ]
  },
  {
   "cell_type": "code",
   "execution_count": 2,
   "id": "ff35ed3c-4159-479c-8be8-f314eda942d9",
   "metadata": {},
   "outputs": [
    {
     "data": {
      "text/plain": [
       "37"
      ]
     },
     "execution_count": 2,
     "metadata": {},
     "output_type": "execute_result"
    }
   ],
   "source": [
    "image = imread(\"../../data/BBBC007_batch/17P1_POS0013_D_1UL.tif\")\n",
    "\n",
    "# noise removal\n",
    "blurred = gaussian(image, 3)\n",
    "\n",
    "# instance segmentation\n",
    "binary = blurred > threshold_otsu(blurred)\n",
    "labels = label(binary)\n",
    "\n",
    "# quantitative measurement\n",
    "labels.max()"
   ]
  },
  {
   "cell_type": "code",
   "execution_count": 3,
   "id": "a373b994-def7-4bdd-8525-2c81b5970d8a",
   "metadata": {},
   "outputs": [
    {
     "data": {
      "text/plain": [
       "19"
      ]
     },
     "execution_count": 3,
     "metadata": {},
     "output_type": "execute_result"
    }
   ],
   "source": [
    "image = imread(\"../../data/BBBC007_batch/17P1_POS0013_D_1UL.tif\")\n",
    "\n",
    "# noise removal\n",
    "blurred = gaussian(image, 7)\n",
    "\n",
    "# instance segmentation\n",
    "binary = blurred > threshold_otsu(blurred)\n",
    "labels = label(binary)\n",
    "\n",
    "# quantitative measurement\n",
    "labels.max()"
   ]
  },
  {
   "cell_type": "markdown",
   "id": "d9f144e8-0b63-491d-ad45-7bdf360ad958",
   "metadata": {},
   "source": [
    "## Uma se\u00e7\u00e3o de configura\u00e7\u00e3o no in\u00edcio\n",
    "Para evitar n\u00fameros m\u00e1gicos e tornar o c\u00f3digo mais leg\u00edvel, \u00e9 recomend\u00e1vel ter uma se\u00e7\u00e3o de c\u00f3digo de configura\u00e7\u00e3o no in\u00edcio de cada script / notebook. L\u00e1 voc\u00ea tamb\u00e9m pode usar coment\u00e1rios para explicar o que as vari\u00e1veis significam. Ali\u00e1s, dar bons nomes a essas vari\u00e1veis \u00e9 fundamental."
   ]
  },
  {
   "cell_type": "code",
   "execution_count": 4,
   "id": "951b4f71-158f-468b-84a2-a9fd1b1deb23",
   "metadata": {},
   "outputs": [],
   "source": [
    "# entre aqui o nome do arquivo de imagem a ser processado\n",
    "file_to_process = \"../../data/BBBC007_batch/17P1_POS0013_D_1UL.tif\"\n",
    "\n",
    "# entre aqui o raio esperado dos n\u00facleos, em unidades de pixel\n",
    "approximate_nuclei_radius = 3"
   ]
  },
  {
   "cell_type": "code",
   "execution_count": 5,
   "id": "9f715981-c55d-4526-bbe6-bfb0f521be49",
   "metadata": {},
   "outputs": [
    {
     "data": {
      "text/plain": [
       "37"
      ]
     },
     "execution_count": 5,
     "metadata": {},
     "output_type": "execute_result"
    }
   ],
   "source": [
    "image = imread(file_to_process)\n",
    "\n",
    "# noise removal\n",
    "blurred = gaussian(image, approximate_nuclei_radius)\n",
    "\n",
    "# instance segmentation\n",
    "binary = blurred > threshold_otsu(blurred)\n",
    "labels = label(binary)\n",
    "\n",
    "# quantitative measurement\n",
    "labels.max()"
   ]
  },
  {
   "cell_type": "markdown",
   "id": "2326b955-ec1e-416e-9606-36a2f7709d90",
   "metadata": {},
   "source": [
    "Mais uma dica: Python permite especificar [argumentos nomeados](https://treyhunner.com/2018/04/keyword-arguments-in-python/) ao chamar fun\u00e7\u00f5es. Ao us\u00e1-los, o c\u00f3digo se torna mais f\u00e1cil de ler e entender:"
   ]
  },
  {
   "cell_type": "code",
   "execution_count": 6,
   "id": "76d0cc44-4a5e-4dcd-990e-ec2e49b5462f",
   "metadata": {},
   "outputs": [],
   "source": [
    "blurred = gaussian(image, sigma=approximate_nuclei_radius)"
   ]
  },
  {
   "cell_type": "code",
   "execution_count": null,
   "id": "5384afe5-3760-424e-8d7c-998f4aa724fe",
   "metadata": {},
   "outputs": [],
   "source": []
  }
 ],
 "metadata": {
  "kernelspec": {
   "display_name": "Python 3 (ipykernel)",
   "language": "python",
   "name": "python3"
  },
  "language_info": {
   "codemirror_mode": {
    "name": "ipython",
    "version": 3
   },
   "file_extension": ".py",
   "mimetype": "text/x-python",
   "name": "python",
   "nbconvert_exporter": "python",
   "pygments_lexer": "ipython3",
   "version": "3.9.13"
  }
 },
 "nbformat": 4,
 "nbformat_minor": 5
}