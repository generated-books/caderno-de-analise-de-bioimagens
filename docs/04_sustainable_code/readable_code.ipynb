{
 "cells": [
  {
   "cell_type": "markdown",
   "id": "798022dd-fa69-4ddd-9049-922c5583275c",
   "metadata": {},
   "source": [
    "# Escrevendo bom c\u00f3digo\n",
    "## Escrevendo c\u00f3digo leg\u00edvel\n",
    "Tecnicamente, o Python nos permite escrever c\u00f3digo assim."
   ]
  },
  {
   "cell_type": "code",
   "execution_count": 1,
   "id": "80e01b1a-431c-4c2b-ae1c-3a889d2f81d5",
   "metadata": {},
   "outputs": [
    {
     "name": "stdout",
     "output_type": "stream",
     "text": [
      "Yang\n"
     ]
    }
   ],
   "source": [
    "a=5;b=3;c=8;d=(a+b)/c;print(\"Yin\" if d==5 else \"Yang\")"
   ]
  },
  {
   "cell_type": "markdown",
   "id": "bd574e9a-d2a5-43a6-acf8-4af73b00181f",
   "metadata": {},
   "source": [
    "No entanto, para melhor legibilidade, \u00e9 recomendado escrever declara\u00e7\u00f5es individuais em linhas separadas. Tamb\u00e9m \u00e9 bom colocar linhas vazias entre se\u00e7\u00f5es e introduzir coment\u00e1rios para explicar por que as coisas s\u00e3o feitas."
   ]
  },
  {
   "cell_type": "code",
   "execution_count": 2,
   "id": "af8aa5aa-4a9d-4f0a-8776-0a29878f23ba",
   "metadata": {},
   "outputs": [],
   "source": [
    "# initialize program\n",
    "a=5\n",
    "b=3\n",
    "c=8\n",
    "\n",
    "# compute result before we can evaluate it\n",
    "d=(a+b)/c"
   ]
  },
  {
   "cell_type": "markdown",
   "id": "a25300a1-f85b-4c9a-8629-5780b6e8aeb2",
   "metadata": {},
   "source": [
    "Se voc\u00ea trabalha com notebooks Jupyter, imprima resultados intermedi\u00e1rios para permitir que o leitor veja o que est\u00e1 acontecendo."
   ]
  },
  {
   "cell_type": "code",
   "execution_count": 3,
   "id": "81b2dca6-2e25-46e7-9ad6-bee83b2256ad",
   "metadata": {},
   "outputs": [
    {
     "data": {
      "text/plain": [
       "1.0"
      ]
     },
     "execution_count": 3,
     "metadata": {},
     "output_type": "execute_result"
    }
   ],
   "source": [
    "d"
   ]
  },
  {
   "cell_type": "markdown",
   "id": "1d7342d7-7e76-437c-bee3-21fa509b31c8",
   "metadata": {},
   "source": [
    "Considere escrever espa\u00e7os entre vari\u00e1veis, operadores e n\u00fameros, porque isso \u00e9 mais f\u00e1cil delerqueassimn\u00e9msmo,certo?"
   ]
  },
  {
   "cell_type": "code",
   "execution_count": 4,
   "id": "024f1ec4-79e8-4559-ac1e-2d8df7602b8b",
   "metadata": {},
   "outputs": [
    {
     "data": {
      "text/plain": [
       "1.0"
      ]
     },
     "execution_count": 4,
     "metadata": {},
     "output_type": "execute_result"
    }
   ],
   "source": [
    "d = (a + b) / c\n",
    "d"
   ]
  },
  {
   "cell_type": "markdown",
   "id": "30bb9bbc-5153-4bd6-aa81-6bdf479e221c",
   "metadata": {},
   "source": [
    "Algumas pessoas est\u00e3o ok com declara\u00e7\u00f5es curtas assim:"
   ]
  },
  {
   "cell_type": "code",
   "execution_count": 5,
   "id": "4fb1a25d-0669-4b1e-b0d2-9ae27bf00317",
   "metadata": {},
   "outputs": [
    {
     "name": "stdout",
     "output_type": "stream",
     "text": [
      "Yang\n"
     ]
    }
   ],
   "source": [
    "print(\"Yin\" if d==5 else \"Yang\")"
   ]
  },
  {
   "cell_type": "markdown",
   "id": "e87712f2-e265-4434-9b1b-2a01d089241d",
   "metadata": {},
   "source": [
    "Outras preferem escrever o c\u00f3digo de forma mais detalhada."
   ]
  },
  {
   "cell_type": "code",
   "execution_count": 6,
   "id": "5db81d1a-0671-4485-b501-9c324bb2527f",
   "metadata": {},
   "outputs": [
    {
     "name": "stdout",
     "output_type": "stream",
     "text": [
      "Yang\n"
     ]
    }
   ],
   "source": [
    "if d == 5:\n",
    "    print(\"Yin\")\n",
    "else:\n",
    "    print(\"Yang\")"
   ]
  }
 ],
 "metadata": {
  "kernelspec": {
   "display_name": "Python 3 (ipykernel)",
   "language": "python",
   "name": "python3"
  },
  "language_info": {
   "codemirror_mode": {
    "name": "ipython",
    "version": 3
   },
   "file_extension": ".py",
   "mimetype": "text/x-python",
   "name": "python",
   "nbconvert_exporter": "python",
   "pygments_lexer": "ipython3",
   "version": "3.9.15"
  }
 },
 "nbformat": 4,
 "nbformat_minor": 5
}