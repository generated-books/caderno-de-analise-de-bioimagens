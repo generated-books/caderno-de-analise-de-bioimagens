{
 "cells": [
  {
   "cell_type": "markdown",
   "id": "cb1fdbe0",
   "metadata": {},
   "source": [
    "# Rastreando o consumo de mem\u00f3ria\n",
    "Ao configurar fluxos de trabalho complexos, pode fazer sentido dar uma olhada no consumo de mem\u00f3ria. Em ambientes interativos, o usu\u00e1rio pode usar o Gerenciador de Tarefas do Windows para ver o qu\u00e3o ocupada est\u00e1 a mem\u00f3ria da GPU. Isso pode ser trabalhoso para scripts. Ao usar uma GPU NVIDIA, o seguinte procedimento pode ser usado para depurar o consumo de mem\u00f3ria do fluxo de trabalho."
   ]
  },
  {
   "cell_type": "code",
   "execution_count": 1,
   "id": "01a6ede9",
   "metadata": {},
   "outputs": [
    {
     "data": {
      "text/plain": [
       "<NVIDIA GeForce RTX 3050 Ti Laptop GPU on Platform: NVIDIA CUDA (1 refs)>"
      ]
     },
     "execution_count": 1,
     "metadata": {},
     "output_type": "execute_result"
    }
   ],
   "source": [
    "import numpy as np\n",
    "import pyclesperanto_prototype as cle\n",
    "\n",
    "cle.select_device(\"RTX\")"
   ]
  },
  {
   "cell_type": "markdown",
   "id": "8a0e81e0",
   "metadata": {},
   "source": [
    "Para supervisionar o consumo de mem\u00f3ria, pode-se usar o [nvidia-smi](https://nvidia.custhelp.com/app/answers/detail/a_id/3751/~/useful-nvidia-smi-queries), uma ferramenta de linha de comando que pode imprimir quanto de mem\u00f3ria est\u00e1 atualmente bloqueada em uma determinada GPU, por qualquer aplica\u00e7\u00e3o:"
   ]
  },
  {
   "cell_type": "code",
   "execution_count": 2,
   "id": "bedbd481",
   "metadata": {},
   "outputs": [
    {
     "name": "stdout",
     "output_type": "stream",
     "text": [
      "memory.used [MiB]\n",
      "178 MiB\n"
     ]
    }
   ],
   "source": [
    "!nvidia-smi --query-gpu=memory.used --format=csv"
   ]
  },
  {
   "cell_type": "markdown",
   "id": "3ed5c332",
   "metadata": {},
   "source": [
    "Se ent\u00e3o executarmos uma opera\u00e7\u00e3o na GPU e verificarmos o consumo de mem\u00f3ria novamente, devemos ver um aumento."
   ]
  },
  {
   "cell_type": "code",
   "execution_count": 3,
   "id": "2f06ebac",
   "metadata": {},
   "outputs": [],
   "source": [
    "image = np.random.random((1024, 1024, 100))\n",
    "\n",
    "blurred = cle.gaussian_blur(image)"
   ]
  },
  {
   "cell_type": "code",
   "execution_count": 4,
   "id": "f5328a54",
   "metadata": {},
   "outputs": [
    {
     "name": "stdout",
     "output_type": "stream",
     "text": [
      "memory.used [MiB]\n",
      "580 MiB\n"
     ]
    }
   ],
   "source": [
    "!nvidia-smi --query-gpu=memory.used --format=csv"
   ]
  },
  {
   "cell_type": "markdown",
   "id": "9587fb0c",
   "metadata": {},
   "source": [
    "O comando `del` permite liberar mem\u00f3ria. Nota: A mem\u00f3ria por tr\u00e1s da vari\u00e1vel pode n\u00e3o ser liberada imediatamente, dependendo de qu\u00e3o ocupado o sistema est\u00e1 no momento."
   ]
  },
  {
   "cell_type": "code",
   "execution_count": 5,
   "id": "39400e4a",
   "metadata": {},
   "outputs": [],
   "source": [
    "del blurred"
   ]
  },
  {
   "cell_type": "code",
   "execution_count": 6,
   "id": "8bef3a3f",
   "metadata": {},
   "outputs": [
    {
     "name": "stdout",
     "output_type": "stream",
     "text": [
      "memory.used [MiB]\n",
      "180 MiB\n"
     ]
    }
   ],
   "source": [
    "!nvidia-smi --query-gpu=memory.used --format=csv"
   ]
  },
  {
   "cell_type": "code",
   "execution_count": null,
   "id": "fdcd417c",
   "metadata": {},
   "outputs": [],
   "source": []
  }
 ],
 "metadata": {
  "kernelspec": {
   "display_name": "Python 3 (ipykernel)",
   "language": "python",
   "name": "python3"
  },
  "language_info": {
   "codemirror_mode": {
    "name": "ipython",
    "version": 3
   },
   "file_extension": ".py",
   "mimetype": "text/x-python",
   "name": "python",
   "nbconvert_exporter": "python",
   "pygments_lexer": "ipython3",
   "version": "3.9.9"
  }
 },
 "nbformat": 4,
 "nbformat_minor": 5
}