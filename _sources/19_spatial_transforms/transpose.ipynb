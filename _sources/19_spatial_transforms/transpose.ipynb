{
 "cells": [
  {
   "cell_type": "markdown",
   "metadata": {},
   "source": [
    "# Benchmarking de transposi\u00e7\u00e3o de eixos\n",
    "Este notebook compara o desempenho de diferentes implementa\u00e7\u00f5es de transposi\u00e7\u00e3o de eixos.\n",
    "\n",
    "**Nota:** os resultados do benchmarking variam muito dependendo do tamanho da imagem, tamanho do kernel, opera\u00e7\u00f5es utilizadas, par\u00e2metros e hardware utilizado. Use este notebook para adapt\u00e1-lo ao seu cen\u00e1rio de uso e fa\u00e7a o benchmark no seu hardware alvo. Se voc\u00ea tiver cen\u00e1rios ou casos de uso diferentes, voc\u00ea \u00e9 muito bem-vindo para enviar seu notebook como pull-request!"
   ]
  },
  {
   "cell_type": "code",
   "execution_count": 1,
   "metadata": {},
   "outputs": [
    {
     "data": {
      "text/plain": [
       "<NVIDIA GeForce RTX 3050 Ti Laptop GPU on Platform: NVIDIA CUDA (1 refs)>"
      ]
     },
     "execution_count": 1,
     "metadata": {},
     "output_type": "execute_result"
    }
   ],
   "source": [
    "import pyclesperanto_prototype as cle\n",
    "import numpy as np\n",
    "import time\n",
    "import cupy as cp\n",
    "\n",
    "# para medir a dura\u00e7\u00e3o da execu\u00e7\u00e3o do kernel corretamente, precisamos definir esta flag. Isso ir\u00e1 diminuir um pouco a execu\u00e7\u00e3o dos fluxos de trabalho\n",
    "cle.set_wait_for_kernel_finish(True)\n",
    "\n",
    "# selecione uma GPU com o seguinte nome. Isso ir\u00e1 recorrer a qualquer outra GPU se nenhuma com esse nome for encontrada\n",
    "cle.select_device('RTX')"
   ]
  },
  {
   "cell_type": "code",
   "execution_count": 2,
   "metadata": {},
   "outputs": [],
   "source": [
    "# dados de teste\n",
    "import numpy as np\n",
    "\n",
    "test_image = np.random.random([100, 512, 1024])"
   ]
  },
  {
   "cell_type": "markdown",
   "metadata": {},
   "source": [
    "## clEsperanto"
   ]
  },
  {
   "cell_type": "code",
   "execution_count": 3,
   "metadata": {},
   "outputs": [
    {
     "name": "stdout",
     "output_type": "stream",
     "text": [
      "pyclesperanto transpose duration: 0.06201291084289551\n",
      "pyclesperanto transpose duration: 0.04100918769836426\n",
      "pyclesperanto transpose duration: 0.040008544921875\n",
      "pyclesperanto transpose duration: 0.040008544921875\n",
      "pyclesperanto transpose duration: 0.0400090217590332\n",
      "pyclesperanto transpose duration: 0.04129624366760254\n",
      "pyclesperanto transpose duration: 0.042009592056274414\n",
      "pyclesperanto transpose duration: 0.04128861427307129\n",
      "pyclesperanto transpose duration: 0.04102063179016113\n",
      "pyclesperanto transpose duration: 0.04099869728088379\n",
      "(1024, 512, 100)\n"
     ]
    }
   ],
   "source": [
    "# transposi\u00e7\u00e3o com pyclesperanto\n",
    "result_image = None\n",
    "\n",
    "test_image_gpu = cle.push_zyx(test_image)\n",
    "\n",
    "for i in range(0, 10):\n",
    "    start_time = time.time()\n",
    "    result_image = cle.transpose_xz(test_image_gpu, result_image)\n",
    "    print(\"dura\u00e7\u00e3o da transposi\u00e7\u00e3o pyclesperanto: \" + str(time.time() - start_time))\n",
    "print(result_image.shape)"
   ]
  },
  {
   "cell_type": "markdown",
   "metadata": {},
   "source": [
    "## cupy"
   ]
  },
  {
   "cell_type": "code",
   "execution_count": 4,
   "metadata": {},
   "outputs": [
    {
     "name": "stdout",
     "output_type": "stream",
     "text": [
      "cupy transpose duration: 0.06301379203796387\n",
      "cupy transpose duration: 0.0009999275207519531\n",
      "cupy transpose duration: 0.0\n",
      "cupy transpose duration: 0.0\n",
      "cupy transpose duration: 0.0\n",
      "cupy transpose duration: 0.0\n",
      "cupy transpose duration: 0.0\n",
      "cupy transpose duration: 0.0\n",
      "cupy transpose duration: 0.0\n",
      "cupy transpose duration: 0.0\n",
      "(1024, 512, 100)\n"
     ]
    }
   ],
   "source": [
    "# transposi\u00e7\u00e3o com numpy\n",
    "result_image = None\n",
    "cu_test_image = cp.asarray(test_image)\n",
    "\n",
    "for i in range(0, 10):\n",
    "    start_time = time.time()\n",
    "    result_image = cp.transpose(cu_test_image, (2, 1, 0))\n",
    "    cp.cuda.stream.get_current_stream().synchronize() # precisamos esperar aqui para medir o tempo corretamente\n",
    "    print(\"dura\u00e7\u00e3o da transposi\u00e7\u00e3o cupy: \" + str(time.time() - start_time))\n",
    "print(result_image.shape)"
   ]
  },
  {
   "cell_type": "markdown",
   "metadata": {},
   "source": [
    "## numpy"
   ]
  },
  {
   "cell_type": "code",
   "execution_count": 5,
   "metadata": {},
   "outputs": [
    {
     "name": "stdout",
     "output_type": "stream",
     "text": [
      "numpy transpose duration: 0.0\n",
      "numpy transpose duration: 0.0\n",
      "numpy transpose duration: 0.0\n",
      "numpy transpose duration: 0.0\n",
      "numpy transpose duration: 0.0\n",
      "numpy transpose duration: 0.0\n",
      "numpy transpose duration: 0.0\n",
      "numpy transpose duration: 0.0\n",
      "numpy transpose duration: 0.0\n",
      "numpy transpose duration: 0.0\n",
      "(1024, 512, 100)\n"
     ]
    }
   ],
   "source": [
    "# transposi\u00e7\u00e3o com numpy\n",
    "result_image = None\n",
    "\n",
    "for i in range(0, 10):\n",
    "    start_time = time.time()\n",
    "    result_image = np.transpose(test_image, (2, 1, 0))\n",
    "    print(\"dura\u00e7\u00e3o da transposi\u00e7\u00e3o numpy: \" + str(time.time() - start_time))\n",
    "print(result_image.shape)"
   ]
  },
  {
   "cell_type": "code",
   "execution_count": null,
   "metadata": {},
   "outputs": [],
   "source": []
  }
 ],
 "metadata": {
  "kernelspec": {
   "display_name": "Python 3 (ipykernel)",
   "language": "python",
   "name": "python3"
  },
  "language_info": {
   "codemirror_mode": {
    "name": "ipython",
    "version": 3
   },
   "file_extension": ".py",
   "mimetype": "text/x-python",
   "name": "python",
   "nbconvert_exporter": "python",
   "pygments_lexer": "ipython3",
   "version": "3.8.5"
  }
 },
 "nbformat": 4,
 "nbformat_minor": 4
}