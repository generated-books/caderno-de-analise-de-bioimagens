{
 "cells": [
  {
   "cell_type": "markdown",
   "metadata": {},
   "source": [
    "# Fun\u00e7\u00f5es\n",
    "Usamos fun\u00e7\u00f5es em li\u00e7\u00f5es anteriores. As fun\u00e7\u00f5es t\u00eam um nome e par\u00e2metros. Algumas delas retornam um resultado, outras n\u00e3o. Normalmente, as chamamos usando `resultado = nome(par\u00e2metros)`.\n",
    "\n",
    "Veja tamb\u00e9m\n",
    "* [Fun\u00e7\u00f5es em Python](https://www.tutorialspoint.com/python/python_functions.htm)\n",
    "* [Lista de fun\u00e7\u00f5es integradas](https://docs.python.org/3/library/functions.html)\n",
    "\n",
    "Vamos dar uma olhada em algumas fun\u00e7\u00f5es, por exemplo `print(texto)` e `pow(x, y)`. A fun\u00e7\u00e3o print recebe um par\u00e2metro (ou m\u00faltiplos par\u00e2metros) e n\u00e3o retorna nada:"
   ]
  },
  {
   "cell_type": "code",
   "execution_count": 1,
   "metadata": {},
   "outputs": [
    {
     "name": "stdout",
     "output_type": "stream",
     "text": [
      "Hello world\n"
     ]
    }
   ],
   "source": [
    "result = print('Hello world')"
   ]
  },
  {
   "cell_type": "code",
   "execution_count": 2,
   "metadata": {},
   "outputs": [],
   "source": [
    "result"
   ]
  },
  {
   "cell_type": "markdown",
   "metadata": {},
   "source": [
    "A fun\u00e7\u00e3o [pow](https://docs.python.org/3/library/functions.html#pow) tem dois par\u00e2metros e retorna um resultado:"
   ]
  },
  {
   "cell_type": "code",
   "execution_count": 3,
   "metadata": {},
   "outputs": [],
   "source": [
    "result = pow(2, 3)"
   ]
  },
  {
   "cell_type": "code",
   "execution_count": 4,
   "metadata": {},
   "outputs": [
    {
     "data": {
      "text/plain": [
       "8"
      ]
     },
     "execution_count": 4,
     "metadata": {},
     "output_type": "execute_result"
    }
   ],
   "source": [
    "result"
   ]
  },
  {
   "cell_type": "markdown",
   "metadata": {},
   "source": [
    "## Fun\u00e7\u00f5es personalizadas\n",
    "Voc\u00ea pode DEFinir suas pr\u00f3prias fun\u00e7\u00f5es usando a declara\u00e7\u00e3o `def`. Ap\u00f3s a declara\u00e7\u00e3o def, voc\u00ea deve especificar o nome da sua fun\u00e7\u00e3o e, entre par\u00eanteses, seus par\u00e2metros. Em seguida, vem dois pontos `:` e todas as linhas de c\u00f3digo seguintes que est\u00e3o indentadas fazem parte desta fun\u00e7\u00e3o. Uma declara\u00e7\u00e3o `return` final envia o resultado de volta para onde a fun\u00e7\u00e3o foi chamada."
   ]
  },
  {
   "cell_type": "code",
   "execution_count": 5,
   "metadata": {},
   "outputs": [],
   "source": [
    "def sum_numbers(a, b):\n",
    "    \n",
    "    result = a + b\n",
    "    \n",
    "    return result"
   ]
  },
  {
   "cell_type": "markdown",
   "metadata": {},
   "source": [
    "Voc\u00ea pode ent\u00e3o chamar sua fun\u00e7\u00e3o quantas vezes quiser"
   ]
  },
  {
   "cell_type": "code",
   "execution_count": 6,
   "metadata": {},
   "outputs": [
    {
     "data": {
      "text/plain": [
       "7"
      ]
     },
     "execution_count": 6,
     "metadata": {},
     "output_type": "execute_result"
    }
   ],
   "source": [
    "sum_numbers(3, 4)"
   ]
  },
  {
   "cell_type": "code",
   "execution_count": 7,
   "metadata": {},
   "outputs": [
    {
     "data": {
      "text/plain": [
       "11"
      ]
     },
     "execution_count": 7,
     "metadata": {},
     "output_type": "execute_result"
    }
   ],
   "source": [
    "sum_numbers(5, 6)"
   ]
  },
  {
   "cell_type": "markdown",
   "metadata": {},
   "source": [
    "\u00c0s vezes, voc\u00ea quer salvar o resultado da sua fun\u00e7\u00e3o em uma vari\u00e1vel."
   ]
  },
  {
   "cell_type": "code",
   "execution_count": 8,
   "metadata": {},
   "outputs": [
    {
     "name": "stdout",
     "output_type": "stream",
     "text": [
      "9\n"
     ]
    }
   ],
   "source": [
    "c = sum_numbers(4, 5)\n",
    "print(c)"
   ]
  },
  {
   "cell_type": "markdown",
   "metadata": {},
   "source": [
    "## Simplificar c\u00f3digo usando fun\u00e7\u00f5es\n",
    "Suponha que voc\u00ea tenha um algoritmo complicado que pode dizer se um n\u00famero \u00e9 \u00edmpar ou par. Vamos colocar este algoritmo em uma fun\u00e7\u00e3o e cham\u00e1-lo mais tarde. Para nosso algoritmo, usaremos o [operador m\u00f3dulo %](https://en.wikipedia.org/wiki/Modulo_operation)."
   ]
  },
  {
   "cell_type": "code",
   "execution_count": 9,
   "metadata": {},
   "outputs": [],
   "source": [
    "def print_odd_or_even(number):\n",
    "    if number % 2 == 0:\n",
    "        print(number, \"is even\")\n",
    "    else:\n",
    "        print(number, \"is odd\")"
   ]
  },
  {
   "cell_type": "code",
   "execution_count": 10,
   "metadata": {},
   "outputs": [
    {
     "name": "stdout",
     "output_type": "stream",
     "text": [
      "3 is odd\n"
     ]
    }
   ],
   "source": [
    "print_odd_or_even(3)"
   ]
  },
  {
   "cell_type": "code",
   "execution_count": 11,
   "metadata": {},
   "outputs": [
    {
     "name": "stdout",
     "output_type": "stream",
     "text": [
      "4 is even\n"
     ]
    }
   ],
   "source": [
    "print_odd_or_even(4)"
   ]
  },
  {
   "cell_type": "code",
   "execution_count": 12,
   "metadata": {},
   "outputs": [
    {
     "name": "stdout",
     "output_type": "stream",
     "text": [
      "10 is even\n"
     ]
    }
   ],
   "source": [
    "print_odd_or_even(10)"
   ]
  },
  {
   "cell_type": "markdown",
   "metadata": {},
   "source": [
    "Assim, em vez de escrever o mesmo bloco `if-else` v\u00e1rias vezes, podemos simplesmente chamar nossa fun\u00e7\u00e3o personalizada `print_odd_or_even`."
   ]
  },
  {
   "cell_type": "markdown",
   "metadata": {},
   "source": [
    "## Documentando fun\u00e7\u00f5es\n",
    "Voc\u00ea pode documentar o que uma fun\u00e7\u00e3o faz em sua chamada string de documenta\u00e7\u00e3o (docstring). A docstring vem logo ap\u00f3s o cabe\u00e7alho da fun\u00e7\u00e3o e se parece com isto:"
   ]
  },
  {
   "cell_type": "code",
   "execution_count": 13,
   "metadata": {},
   "outputs": [],
   "source": [
    "def square(number):\n",
    "    '''\n",
    "    Eleva um n\u00famero ao quadrado multiplicando-o por si mesmo e retorna o resultado.\n",
    "    '''\n",
    "\n",
    "    return number * number"
   ]
  },
  {
   "cell_type": "markdown",
   "metadata": {},
   "source": [
    "Voc\u00ea pode ent\u00e3o ler a documenta\u00e7\u00e3o da fun\u00e7\u00e3o assim:"
   ]
  },
  {
   "cell_type": "code",
   "execution_count": 14,
   "metadata": {},
   "outputs": [
    {
     "name": "stdout",
     "output_type": "stream",
     "text": [
      "\n",
      "    Squares a number by multiplying it with itself  and returns its result.\n",
      "    \n"
     ]
    }
   ],
   "source": [
    "print(square.__doc__)"
   ]
  },
  {
   "cell_type": "markdown",
   "metadata": {},
   "source": [
    "Experimente isso tamb\u00e9m se quiser que a docstring seja mostrada lado a lado no seu notebook:"
   ]
  },
  {
   "cell_type": "code",
   "execution_count": 15,
   "metadata": {},
   "outputs": [
    {
     "data": {
      "text/plain": [
       "\u001b[0;31mSignature:\u001b[0m \u001b[0msquare\u001b[0m\u001b[0;34m(\u001b[0m\u001b[0mnumber\u001b[0m\u001b[0;34m)\u001b[0m\u001b[0;34m\u001b[0m\u001b[0;34m\u001b[0m\u001b[0m\n",
       "\u001b[0;31mDocstring:\u001b[0m Squares a number by multiplying it with itself  and returns its result.\n",
       "\u001b[0;31mFile:\u001b[0m      /var/folders/p1/6svzckgd1y5906pfgm71fvmr0000gn/T/ipykernel_11914/1507435947.py\n",
       "\u001b[0;31mType:\u001b[0m      function\n"
      ]
     },
     "metadata": {},
     "output_type": "display_data"
    }
   ],
   "source": [
    "square?"
   ]
  },
  {
   "cell_type": "markdown",
   "metadata": {},
   "source": [
    "A prop\u00f3sito, voc\u00ea pode fazer isso com qualquer fun\u00e7\u00e3o:"
   ]
  },
  {
   "cell_type": "code",
   "execution_count": 16,
   "metadata": {},
   "outputs": [
    {
     "name": "stdout",
     "output_type": "stream",
     "text": [
      "Return the square root of x.\n"
     ]
    }
   ],
   "source": [
    "import math\n",
    "print(math.sqrt.__doc__)"
   ]
  },
  {
   "cell_type": "code",
   "execution_count": 17,
   "metadata": {},
   "outputs": [
    {
     "name": "stdout",
     "output_type": "stream",
     "text": [
      "Return e raised to the power of x.\n"
     ]
    }
   ],
   "source": [
    "print(math.exp.__doc__)"
   ]
  },
  {
   "cell_type": "markdown",
   "metadata": {},
   "source": [
    "## Exerc\u00edcio\n",
    "Escreva uma fun\u00e7\u00e3o que recebe dois par\u00e2metros: `number_of_points_in_exam` e `number_of_total_points_in_exam` e retorna uma nota de 1 a 5. Alunos com > 95% dos pontos recebem nota 1, acima de 80% recebem nota 2, acima de 60% nota 3 e acima de 50% nota 4. Alunos com menos de 50% recebem nota 5 e precisam repetir o exame. Em seguida, chame a fun\u00e7\u00e3o para tr\u00eas alunos que obtiveram 15, 25 e 29 pontos em um exame com 30 pontos no total."
   ]
  },
  {
   "cell_type": "code",
   "execution_count": null,
   "metadata": {},
   "outputs": [],
   "source": []
  }
 ],
 "metadata": {
  "kernelspec": {
   "display_name": "Python 3 (ipykernel)",
   "language": "python",
   "name": "python3"
  },
  "language_info": {
   "codemirror_mode": {
    "name": "ipython",
    "version": 3
   },
   "file_extension": ".py",
   "mimetype": "text/x-python",
   "name": "python",
   "nbconvert_exporter": "python",
   "pygments_lexer": "ipython3",
   "version": "3.9.0"
  },
  "toc": {
   "base_numbering": 1,
   "nav_menu": {},
   "number_sections": false,
   "sideBar": false,
   "skip_h1_title": false,
   "title_cell": "Table of Contents",
   "title_sidebar": "Contents",
   "toc_cell": false,
   "toc_position": {},
   "toc_section_display": false,
   "toc_window_display": false
  }
 },
 "nbformat": 4,
 "nbformat_minor": 4
}