{
 "cells": [
  {
   "cell_type": "markdown",
   "id": "3b28cebb-8400-491d-bb63-88d634749a05",
   "metadata": {},
   "source": [
    "# Mantenha simples e curto\n",
    "Python tem funcionalidades incr\u00edveis que nos permitem escrever c\u00f3digo do s\u00e9culo 21. Por exemplo, podemos coletar fun\u00e7\u00f5es e par\u00e2metros em listas e cham\u00e1-los de um loop. Embora isso seja super legal do ponto de vista da programa\u00e7\u00e3o, pode n\u00e3o ser f\u00e1cil ler o c\u00f3digo. A recomenda\u00e7\u00e3o \u00e9: [Mantenha simples e curto (KISS)](https://en.wikipedia.org/wiki/KISS_principle)."
   ]
  },
  {
   "cell_type": "code",
   "execution_count": null,
   "id": "76c73ee3-d959-4f36-b86d-1e182d4f3da9",
   "metadata": {},
   "outputs": [],
   "source": [
    "import numpy as np\n",
    "from skimage.io import imread, imshow\n",
    "from napari_segment_blobs_and_things_with_membranes import threshold_otsu, gaussian_blur, label"
   ]
  },
  {
   "cell_type": "markdown",
   "id": "a0fa0f51-862e-4c6b-8197-368d84714eec",
   "metadata": {},
   "source": [
    "## Exerc\u00edcio\n",
    "Como exemplo, h\u00e1 duas se\u00e7\u00f5es de c\u00f3digo abaixo. Sem executar o c\u00f3digo - voc\u00ea acha que ambos fazem a mesma coisa?"
   ]
  },
  {
   "cell_type": "code",
   "execution_count": null,
   "id": "ddb977fa-133a-4782-9101-078c5475b0a4",
   "metadata": {},
   "outputs": [],
   "source": [
    "image = imread(\"../../data/blobs.tif\")\n",
    "\n",
    "# define a list of functions and a corresponding list of arguments\n",
    "functions = [gaussian_blur, threshold_otsu, label]\n",
    "argument_lists = [[.5], [], []]\n",
    "\n",
    "# go through functions and argument lists pair-wise\n",
    "for function, argument_list in zip(functions, argument_lists):\n",
    "    # execute function with given arguments\n",
    "    image = function(image, *argument_list)\n",
    "\n",
    "result1 = image\n",
    "imshow(result1)"
   ]
  },
  {
   "cell_type": "code",
   "execution_count": null,
   "id": "b32eb680-6701-4008-970e-de2d07dc1e96",
   "metadata": {},
   "outputs": [],
   "source": [
    "image = imread(\"../../data/blobs.tif\")\n",
    "\n",
    "blurred = gaussian_blur(image, 5)\n",
    "binary = threshold_otsu(blurred)\n",
    "labels = label(binary)\n",
    "\n",
    "result2 = labels\n",
    "\n",
    "imshow(result2)"
   ]
  },
  {
   "cell_type": "markdown",
   "id": "32718eea-2ac4-4387-a774-e35a82f31720",
   "metadata": {},
   "source": [
    "Se voc\u00ea n\u00e3o tem certeza, voc\u00ea tamb\u00e9m pode verificar diretamente se os resultados s\u00e3o iguais:"
   ]
  },
  {
   "cell_type": "code",
   "execution_count": null,
   "id": "6af1d143-cc22-48a4-b74e-64870a2a6570",
   "metadata": {},
   "outputs": [],
   "source": [
    "np.all(result1 == result2) "
   ]
  }
 ],
 "metadata": {
  "kernelspec": {
   "display_name": "Python 3 (ipykernel)",
   "language": "python",
   "name": "python3"
  },
  "language_info": {
   "codemirror_mode": {
    "name": "ipython",
    "version": 3
   },
   "file_extension": ".py",
   "mimetype": "text/x-python",
   "name": "python",
   "nbconvert_exporter": "python",
   "pygments_lexer": "ipython3",
   "version": "3.9.15"
  }
 },
 "nbformat": 4,
 "nbformat_minor": 5
}